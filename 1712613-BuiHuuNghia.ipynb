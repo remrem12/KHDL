{
 "cells": [
  {
   "cell_type": "markdown",
   "metadata": {
    "slideshow": {
     "slide_type": "slide"
    }
   },
   "source": [
    "# ĐỒ ÁN CUỐI KÌ"
   ]
  },
  {
   "cell_type": "markdown",
   "metadata": {},
   "source": [
    "Bùi Hữu Nghĩa - 1712613"
   ]
  },
  {
   "cell_type": "markdown",
   "metadata": {},
   "source": [
    "## TỔNG QUAN"
   ]
  },
  {
   "cell_type": "markdown",
   "metadata": {},
   "source": [
    "Qui trình KHDL:\n",
    "- Đưa ra câu hỏi\n",
    "- Thu thập dữ liệu\n",
    "- Khám phá dữ liệu\n",
    "- Tiền xử lí\n",
    "- Phân tích, trả lời câu hỏi"
   ]
  },
  {
   "cell_type": "markdown",
   "metadata": {
    "heading_collapsed": true
   },
   "source": [
    "## 1 - THU THẬP DỮ LIỆU"
   ]
  },
  {
   "cell_type": "markdown",
   "metadata": {
    "hidden": true
   },
   "source": [
    "Ở đây em có dữ liệu là thông tin về các cuốn sách như tên, ngôn ngữ, rating,...  \n",
    "Dữ liệu được lấy từ trang [kaggle.com](https://www.kaggle.com)  \n",
    "Thông tin về dữ liệu tại [đây](https://www.kaggle.com/bahramjannesarr/goodreads-book-datasets-10m?select=book1-100k.csv)  \n",
    "Người sở hữu: Bahram Jannesar & Soroush Ghaderi  \n",
    "License: **CC0: Public Domain**  \n",
    "Tác giả thu thập dữ liệu ở trang [goodreads.com](https://www.goodreads.com/)"
   ]
  },
  {
   "cell_type": "markdown",
   "metadata": {
    "heading_collapsed": true
   },
   "source": [
    "## 2 - KHÁM PHÁ DỮ LIỆU"
   ]
  },
  {
   "cell_type": "markdown",
   "metadata": {
    "hidden": true
   },
   "source": [
    "Trước khi đưa ra câu hỏi để trả lời, ta cần biết dữ liệu có gì. Vì vậy, đầu tiên ta cần đọc dữ liệu"
   ]
  },
  {
   "cell_type": "code",
   "execution_count": 1,
   "metadata": {
    "hidden": true
   },
   "outputs": [],
   "source": [
    "import numpy as np\n",
    "import pandas as pd\n",
    "import matplotlib as plt"
   ]
  },
  {
   "cell_type": "markdown",
   "metadata": {
    "hidden": true
   },
   "source": [
    "Dữ liệu lưu trữ thông tin của hơn 50.000 cuốn sách, có id từ 1 đến 100.000 vì vậy nên file có tên là book1-1000k.  \n",
    "Để biểu diễn trực quan dữ liệu, em dùng Dataframe của pandas"
   ]
  },
  {
   "cell_type": "code",
   "execution_count": 2,
   "metadata": {
    "hidden": true
   },
   "outputs": [],
   "source": [
    "books_df = pd.read_csv('book1-100k.csv')"
   ]
  },
  {
   "cell_type": "markdown",
   "metadata": {
    "hidden": true
   },
   "source": [
    "Xem thử thông tin các cuốn sách trông như thế nào"
   ]
  },
  {
   "cell_type": "code",
   "execution_count": 3,
   "metadata": {
    "hidden": true
   },
   "outputs": [
    {
     "data": {
      "text/html": [
       "<div>\n",
       "<style scoped>\n",
       "    .dataframe tbody tr th:only-of-type {\n",
       "        vertical-align: middle;\n",
       "    }\n",
       "\n",
       "    .dataframe tbody tr th {\n",
       "        vertical-align: top;\n",
       "    }\n",
       "\n",
       "    .dataframe thead th {\n",
       "        text-align: right;\n",
       "    }\n",
       "</style>\n",
       "<table border=\"1\" class=\"dataframe\">\n",
       "  <thead>\n",
       "    <tr style=\"text-align: right;\">\n",
       "      <th></th>\n",
       "      <th>Id</th>\n",
       "      <th>Name</th>\n",
       "      <th>RatingDist1</th>\n",
       "      <th>pagesNumber</th>\n",
       "      <th>RatingDist4</th>\n",
       "      <th>RatingDistTotal</th>\n",
       "      <th>PublishMonth</th>\n",
       "      <th>PublishDay</th>\n",
       "      <th>Publisher</th>\n",
       "      <th>CountsOfReview</th>\n",
       "      <th>PublishYear</th>\n",
       "      <th>Language</th>\n",
       "      <th>Authors</th>\n",
       "      <th>Rating</th>\n",
       "      <th>RatingDist2</th>\n",
       "      <th>RatingDist5</th>\n",
       "      <th>ISBN</th>\n",
       "      <th>RatingDist3</th>\n",
       "    </tr>\n",
       "  </thead>\n",
       "  <tbody>\n",
       "    <tr>\n",
       "      <td>0</td>\n",
       "      <td>1</td>\n",
       "      <td>Harry Potter and the Half-Blood Prince (Harry ...</td>\n",
       "      <td>1:9896</td>\n",
       "      <td>652</td>\n",
       "      <td>4:556485</td>\n",
       "      <td>total:2298124</td>\n",
       "      <td>16</td>\n",
       "      <td>9</td>\n",
       "      <td>Scholastic Inc.</td>\n",
       "      <td>28062</td>\n",
       "      <td>2006</td>\n",
       "      <td>eng</td>\n",
       "      <td>J.K. Rowling</td>\n",
       "      <td>4.57</td>\n",
       "      <td>2:25317</td>\n",
       "      <td>5:1546466</td>\n",
       "      <td>NaN</td>\n",
       "      <td>3:159960</td>\n",
       "    </tr>\n",
       "    <tr>\n",
       "      <td>1</td>\n",
       "      <td>2</td>\n",
       "      <td>Harry Potter and the Order of the Phoenix (Har...</td>\n",
       "      <td>1:12455</td>\n",
       "      <td>870</td>\n",
       "      <td>4:604283</td>\n",
       "      <td>total:2358637</td>\n",
       "      <td>1</td>\n",
       "      <td>9</td>\n",
       "      <td>Scholastic Inc.</td>\n",
       "      <td>29770</td>\n",
       "      <td>2004</td>\n",
       "      <td>eng</td>\n",
       "      <td>J.K. Rowling</td>\n",
       "      <td>4.50</td>\n",
       "      <td>2:37005</td>\n",
       "      <td>5:1493113</td>\n",
       "      <td>0439358078</td>\n",
       "      <td>3:211781</td>\n",
       "    </tr>\n",
       "  </tbody>\n",
       "</table>\n",
       "</div>"
      ],
      "text/plain": [
       "   Id                                               Name RatingDist1  \\\n",
       "0   1  Harry Potter and the Half-Blood Prince (Harry ...      1:9896   \n",
       "1   2  Harry Potter and the Order of the Phoenix (Har...     1:12455   \n",
       "\n",
       "   pagesNumber RatingDist4 RatingDistTotal  PublishMonth  PublishDay  \\\n",
       "0          652    4:556485   total:2298124            16           9   \n",
       "1          870    4:604283   total:2358637             1           9   \n",
       "\n",
       "         Publisher  CountsOfReview  PublishYear Language       Authors  \\\n",
       "0  Scholastic Inc.           28062         2006      eng  J.K. Rowling   \n",
       "1  Scholastic Inc.           29770         2004      eng  J.K. Rowling   \n",
       "\n",
       "   Rating RatingDist2 RatingDist5        ISBN RatingDist3  \n",
       "0    4.57     2:25317   5:1546466         NaN    3:159960  \n",
       "1    4.50     2:37005   5:1493113  0439358078    3:211781  "
      ]
     },
     "execution_count": 3,
     "metadata": {},
     "output_type": "execute_result"
    }
   ],
   "source": [
    "books_df.head(2)"
   ]
  },
  {
   "cell_type": "code",
   "execution_count": 4,
   "metadata": {
    "hidden": true
   },
   "outputs": [
    {
     "data": {
      "text/plain": [
       "(58292, 18)"
      ]
     },
     "execution_count": 4,
     "metadata": {},
     "output_type": "execute_result"
    }
   ],
   "source": [
    "books_df.shape"
   ]
  },
  {
   "cell_type": "code",
   "execution_count": 5,
   "metadata": {},
   "outputs": [
    {
     "data": {
      "text/plain": [
       "'The Water Babies: A Fairy Tale for a Land Baby'"
      ]
     },
     "execution_count": 5,
     "metadata": {},
     "output_type": "execute_result"
    }
   ],
   "source": [
    "books_df.loc[25597, 'Name']"
   ]
  },
  {
   "cell_type": "markdown",
   "metadata": {
    "hidden": true
   },
   "source": [
    "Vậy dữ liệu có kích thước là 58292 dòng x 18 cột"
   ]
  },
  {
   "cell_type": "markdown",
   "metadata": {
    "hidden": true
   },
   "source": [
    "Mỗi dòng là thông tin của một cuốn sách  \n",
    "Các cột có vẻ sắp xếp khá loạn. Ví dụ như các cột RatingDist là rating của sách lại không ở gần nhau. Các cột chứa thông tin về ngày xuất bản như PublishDay, PublishMonth, PublishYear cũng như vậy. Ngoài ra, còn có sự nhầm lẫn ở tên cột PublishMonth và PublishDay bị đảo lộn  \n",
    "Thông tin về các cột như sau:  \n",
    "- **id**  : là id của sách trên goodreads.com\n",
    "- **Name**: tên sách\n",
    "- **RatingDist(x)**: rating của cuốn sách, từ 1 đến 5, có dạng `rating:số lượng`\n",
    "- **Publish(x)**: thời gian xuất bản\n",
    "- **Publisher**: Nhà xuất bản\n",
    "- **pagesNumber**: số trang\n",
    "- **CountsOfReview**: số lượt đánh giá\n",
    "- **Language**: ngôn ngữ\n",
    "- **Author**: tác giả sách\n",
    "- **ISBN**: International Standard Book Number - Mã số tiêu chuẩn quốc tế cho sách"
   ]
  },
  {
   "cell_type": "markdown",
   "metadata": {
    "hidden": true
   },
   "source": [
    "Tìm miền giá trị cho các thuộc tính dạng numeric hoặc datetime: **Publish, pagesNumber, CountsOfReview**"
   ]
  },
  {
   "cell_type": "code",
   "execution_count": 6,
   "metadata": {
    "hidden": true
   },
   "outputs": [
    {
     "name": "stdout",
     "output_type": "stream",
     "text": [
      "Miền giá trị của pagesNumber là:  0 - 23931\n",
      "Miền giá trị của CountsOfReview là:  0 - 94850\n",
      "Miền giá trị của PublishYear(tính theo năm) là:  162 - 3002\n"
     ]
    }
   ],
   "source": [
    "print('Miền giá trị của pagesNumber là: ', min(books_df['pagesNumber']),'-', max(books_df['pagesNumber']))\n",
    "print('Miền giá trị của CountsOfReview là: ', min(books_df['CountsOfReview']),'-', max(books_df['CountsOfReview']))\n",
    "print('Miền giá trị của PublishYear(tính theo năm) là: ', min(books_df['PublishYear']),'-', max(books_df['PublishYear']))"
   ]
  },
  {
   "cell_type": "markdown",
   "metadata": {
    "hidden": true
   },
   "source": [
    "Miền giá trị của PublishYear trông khá lạ (162 - 3002), có thể đây là lỗi ở trang web"
   ]
  },
  {
   "cell_type": "code",
   "execution_count": 7,
   "metadata": {
    "hidden": true
   },
   "outputs": [
    {
     "name": "stdout",
     "output_type": "stream",
     "text": [
      "44378     162\n",
      "57264    1850\n",
      "38613    1900\n",
      "Name: PublishYear, dtype: int64\n",
      "53429    2020\n",
      "24004    2020\n",
      "25597    3002\n",
      "Name: PublishYear, dtype: int64\n"
     ]
    }
   ],
   "source": [
    "publish_year_sr = books_df['PublishYear'].sort_values()\n",
    "print(publish_year_sr.head(3))\n",
    "print(publish_year_sr.tail(3))"
   ]
  },
  {
   "cell_type": "markdown",
   "metadata": {
    "hidden": true
   },
   "source": [
    "Vậy chỉ có 1 row có PusblishYear là 162, và 1 row có PublishYear là 3002 nên có thể chắc đây chỉ là lỗi.  \n",
    "Lỗi này chỉ có 2 dòng không đáng kể nên xem miền giá trị của PublishYear là: 1850 - 2020 vì số năm có vẻ hợp lệ hơn  \n",
    "Một số cột có dữ liệu bị thiếu như: **Language, Publisher và ISBN**"
   ]
  },
  {
   "cell_type": "markdown",
   "metadata": {
    "hidden": true
   },
   "source": [
    "Sắp xếp thứ tự các cột sao cho các cột có thông tin liên quan đến nhau sẽ ở gần nhau"
   ]
  },
  {
   "cell_type": "code",
   "execution_count": 8,
   "metadata": {
    "hidden": true
   },
   "outputs": [
    {
     "data": {
      "text/html": [
       "<div>\n",
       "<style scoped>\n",
       "    .dataframe tbody tr th:only-of-type {\n",
       "        vertical-align: middle;\n",
       "    }\n",
       "\n",
       "    .dataframe tbody tr th {\n",
       "        vertical-align: top;\n",
       "    }\n",
       "\n",
       "    .dataframe thead th {\n",
       "        text-align: right;\n",
       "    }\n",
       "</style>\n",
       "<table border=\"1\" class=\"dataframe\">\n",
       "  <thead>\n",
       "    <tr style=\"text-align: right;\">\n",
       "      <th></th>\n",
       "      <th>Id</th>\n",
       "      <th>Name</th>\n",
       "      <th>Authors</th>\n",
       "      <th>Language</th>\n",
       "      <th>pagesNumber</th>\n",
       "      <th>ISBN</th>\n",
       "      <th>RatingDist1</th>\n",
       "      <th>RatingDist2</th>\n",
       "      <th>RatingDist3</th>\n",
       "      <th>RatingDist4</th>\n",
       "      <th>RatingDist5</th>\n",
       "      <th>RatingDistTotal</th>\n",
       "      <th>Rating</th>\n",
       "      <th>CountsOfReview</th>\n",
       "      <th>PublishMonth</th>\n",
       "      <th>PublishDay</th>\n",
       "      <th>PublishYear</th>\n",
       "      <th>Publisher</th>\n",
       "    </tr>\n",
       "  </thead>\n",
       "  <tbody>\n",
       "    <tr>\n",
       "      <td>0</td>\n",
       "      <td>1</td>\n",
       "      <td>Harry Potter and the Half-Blood Prince (Harry ...</td>\n",
       "      <td>J.K. Rowling</td>\n",
       "      <td>eng</td>\n",
       "      <td>652</td>\n",
       "      <td>NaN</td>\n",
       "      <td>1:9896</td>\n",
       "      <td>2:25317</td>\n",
       "      <td>3:159960</td>\n",
       "      <td>4:556485</td>\n",
       "      <td>5:1546466</td>\n",
       "      <td>total:2298124</td>\n",
       "      <td>4.57</td>\n",
       "      <td>28062</td>\n",
       "      <td>16</td>\n",
       "      <td>9</td>\n",
       "      <td>2006</td>\n",
       "      <td>Scholastic Inc.</td>\n",
       "    </tr>\n",
       "    <tr>\n",
       "      <td>1</td>\n",
       "      <td>2</td>\n",
       "      <td>Harry Potter and the Order of the Phoenix (Har...</td>\n",
       "      <td>J.K. Rowling</td>\n",
       "      <td>eng</td>\n",
       "      <td>870</td>\n",
       "      <td>0439358078</td>\n",
       "      <td>1:12455</td>\n",
       "      <td>2:37005</td>\n",
       "      <td>3:211781</td>\n",
       "      <td>4:604283</td>\n",
       "      <td>5:1493113</td>\n",
       "      <td>total:2358637</td>\n",
       "      <td>4.50</td>\n",
       "      <td>29770</td>\n",
       "      <td>1</td>\n",
       "      <td>9</td>\n",
       "      <td>2004</td>\n",
       "      <td>Scholastic Inc.</td>\n",
       "    </tr>\n",
       "  </tbody>\n",
       "</table>\n",
       "</div>"
      ],
      "text/plain": [
       "   Id                                               Name       Authors  \\\n",
       "0   1  Harry Potter and the Half-Blood Prince (Harry ...  J.K. Rowling   \n",
       "1   2  Harry Potter and the Order of the Phoenix (Har...  J.K. Rowling   \n",
       "\n",
       "  Language  pagesNumber        ISBN RatingDist1 RatingDist2 RatingDist3  \\\n",
       "0      eng          652         NaN      1:9896     2:25317    3:159960   \n",
       "1      eng          870  0439358078     1:12455     2:37005    3:211781   \n",
       "\n",
       "  RatingDist4 RatingDist5 RatingDistTotal  Rating  CountsOfReview  \\\n",
       "0    4:556485   5:1546466   total:2298124    4.57           28062   \n",
       "1    4:604283   5:1493113   total:2358637    4.50           29770   \n",
       "\n",
       "   PublishMonth  PublishDay  PublishYear        Publisher  \n",
       "0            16           9         2006  Scholastic Inc.  \n",
       "1             1           9         2004  Scholastic Inc.  "
      ]
     },
     "execution_count": 8,
     "metadata": {},
     "output_type": "execute_result"
    }
   ],
   "source": [
    "books_df2 = books_df[['Id', 'Name', 'Authors', 'Language', 'pagesNumber', 'ISBN',\n",
    "                     'RatingDist1', 'RatingDist2', 'RatingDist3', 'RatingDist4', 'RatingDist5', 'RatingDistTotal', 'Rating',\n",
    "                     'CountsOfReview',\n",
    "                     'PublishMonth', 'PublishDay', 'PublishYear', 'Publisher', \n",
    "                    ]]\n",
    "books_df2.head(2)"
   ]
  },
  {
   "cell_type": "markdown",
   "metadata": {
    "hidden": true
   },
   "source": [
    "Nhìn chung các cột đã được sắp xếp có liên quan đến nhau cho dễ nhìn.  \n",
    "Việc tiếp theo cần làm là đổi tên 2 cột bị nhầm tên là PublishDay và PublishMonth như đã đề cập ở trên  "
   ]
  },
  {
   "cell_type": "code",
   "execution_count": 9,
   "metadata": {
    "hidden": true
   },
   "outputs": [
    {
     "data": {
      "text/html": [
       "<div>\n",
       "<style scoped>\n",
       "    .dataframe tbody tr th:only-of-type {\n",
       "        vertical-align: middle;\n",
       "    }\n",
       "\n",
       "    .dataframe tbody tr th {\n",
       "        vertical-align: top;\n",
       "    }\n",
       "\n",
       "    .dataframe thead th {\n",
       "        text-align: right;\n",
       "    }\n",
       "</style>\n",
       "<table border=\"1\" class=\"dataframe\">\n",
       "  <thead>\n",
       "    <tr style=\"text-align: right;\">\n",
       "      <th></th>\n",
       "      <th>Id</th>\n",
       "      <th>Name</th>\n",
       "      <th>Authors</th>\n",
       "      <th>Language</th>\n",
       "      <th>pagesNumber</th>\n",
       "      <th>ISBN</th>\n",
       "      <th>RatingDist1</th>\n",
       "      <th>RatingDist2</th>\n",
       "      <th>RatingDist3</th>\n",
       "      <th>RatingDist4</th>\n",
       "      <th>RatingDist5</th>\n",
       "      <th>RatingDistTotal</th>\n",
       "      <th>Rating</th>\n",
       "      <th>CountsOfReview</th>\n",
       "      <th>PublishDay</th>\n",
       "      <th>PublishMonth</th>\n",
       "      <th>PublishYear</th>\n",
       "      <th>Publisher</th>\n",
       "    </tr>\n",
       "  </thead>\n",
       "  <tbody>\n",
       "    <tr>\n",
       "      <td>0</td>\n",
       "      <td>1</td>\n",
       "      <td>Harry Potter and the Half-Blood Prince (Harry ...</td>\n",
       "      <td>J.K. Rowling</td>\n",
       "      <td>eng</td>\n",
       "      <td>652</td>\n",
       "      <td>NaN</td>\n",
       "      <td>1:9896</td>\n",
       "      <td>2:25317</td>\n",
       "      <td>3:159960</td>\n",
       "      <td>4:556485</td>\n",
       "      <td>5:1546466</td>\n",
       "      <td>total:2298124</td>\n",
       "      <td>4.57</td>\n",
       "      <td>28062</td>\n",
       "      <td>16</td>\n",
       "      <td>9</td>\n",
       "      <td>2006</td>\n",
       "      <td>Scholastic Inc.</td>\n",
       "    </tr>\n",
       "    <tr>\n",
       "      <td>1</td>\n",
       "      <td>2</td>\n",
       "      <td>Harry Potter and the Order of the Phoenix (Har...</td>\n",
       "      <td>J.K. Rowling</td>\n",
       "      <td>eng</td>\n",
       "      <td>870</td>\n",
       "      <td>0439358078</td>\n",
       "      <td>1:12455</td>\n",
       "      <td>2:37005</td>\n",
       "      <td>3:211781</td>\n",
       "      <td>4:604283</td>\n",
       "      <td>5:1493113</td>\n",
       "      <td>total:2358637</td>\n",
       "      <td>4.50</td>\n",
       "      <td>29770</td>\n",
       "      <td>1</td>\n",
       "      <td>9</td>\n",
       "      <td>2004</td>\n",
       "      <td>Scholastic Inc.</td>\n",
       "    </tr>\n",
       "  </tbody>\n",
       "</table>\n",
       "</div>"
      ],
      "text/plain": [
       "   Id                                               Name       Authors  \\\n",
       "0   1  Harry Potter and the Half-Blood Prince (Harry ...  J.K. Rowling   \n",
       "1   2  Harry Potter and the Order of the Phoenix (Har...  J.K. Rowling   \n",
       "\n",
       "  Language  pagesNumber        ISBN RatingDist1 RatingDist2 RatingDist3  \\\n",
       "0      eng          652         NaN      1:9896     2:25317    3:159960   \n",
       "1      eng          870  0439358078     1:12455     2:37005    3:211781   \n",
       "\n",
       "  RatingDist4 RatingDist5 RatingDistTotal  Rating  CountsOfReview  PublishDay  \\\n",
       "0    4:556485   5:1546466   total:2298124    4.57           28062          16   \n",
       "1    4:604283   5:1493113   total:2358637    4.50           29770           1   \n",
       "\n",
       "   PublishMonth  PublishYear        Publisher  \n",
       "0             9         2006  Scholastic Inc.  \n",
       "1             9         2004  Scholastic Inc.  "
      ]
     },
     "execution_count": 9,
     "metadata": {},
     "output_type": "execute_result"
    }
   ],
   "source": [
    "books_df2 = books_df2.rename(columns={\"PublishDay\": \"PublishMonth\", \"PublishMonth\": \"PublishDay\"})\n",
    "books_df2.head(2)"
   ]
  },
  {
   "cell_type": "markdown",
   "metadata": {
    "heading_collapsed": true
   },
   "source": [
    "## 3 - CÁC CÂU HỎI CẦN ĐƯỢC TRẢ LỜI TỪ DỮ LIỆU"
   ]
  },
  {
   "cell_type": "markdown",
   "metadata": {},
   "source": [
    "- Tác giả nào được yêu thích nhất\n",
    "- So sánh số lượng sách được phát hành theo thời gian\n",
    "- Sách được yêu thích nhất từng năm và ngược lại"
   ]
  },
  {
   "cell_type": "markdown",
   "metadata": {
    "heading_collapsed": true
   },
   "source": [
    "## 4 - TRẢ LỜI CÂU HỎI"
   ]
  },
  {
   "cell_type": "markdown",
   "metadata": {},
   "source": [
    "### Tác giả nào được yêu thích nhất"
   ]
  },
  {
   "cell_type": "markdown",
   "metadata": {},
   "source": [
    "Tìm tác giả được yêu thích nhất dựa theo dữ liệu đã cho, chỉ tính trong dữ liệu. Em sẽ tính trung bình rating các cuốn sách của từng tác giả và tác giả có trung bình rating cao nhất là được yêu thích nhất  \n",
    "Đầu tiên tạo ra 1 Dictionary lưu thông tin tác giả và rating các cuốn sách của tác giả đó"
   ]
  },
  {
   "cell_type": "code",
   "execution_count": 52,
   "metadata": {},
   "outputs": [],
   "source": [
    "author_rating_dict = {} # dict chứa thông tin tác giả và rating có dạng {'author': [rating, rating, ...], ...}\n",
    "\n",
    "author_and_rating = books_df2.filter(items=['Authors', 'Rating']) # df gồm 2 cột là Authors và Rating\n",
    "\n",
    "for i in range(len(author_and_rating)): # duyệt từng dòng\n",
    "    author, rating = author_and_rating.loc[i, ['Authors', 'Rating']]\n",
    "    if author in author_rating_dict:\n",
    "        author_rating_dict[author].append(rating) \n",
    "    else:\n",
    "        author_rating_dict[author] = [rating]"
   ]
  },
  {
   "cell_type": "code",
   "execution_count": 58,
   "metadata": {},
   "outputs": [],
   "source": [
    "# Tạo dict chứa thông tin tác giả và trung bình rating sách\n",
    "average_rating_dict = {}\n",
    "for author in author_rating_dict:\n",
    "    average_rating_dict[author] = np.mean(author_rating_dict[author])"
   ]
  },
  {
   "cell_type": "markdown",
   "metadata": {},
   "source": [
    "Sau khi được 1 Dictionary chứa thông tin tác giả và rating trung bình thì chỉ cần tìm max của các trung bình đó thì được tác giả có rating sách cao nhất và cũng được yêu thích nhất"
   ]
  },
  {
   "cell_type": "markdown",
   "metadata": {},
   "source": [
    "Sort dict theo value giảm dần thì rating trung bình cao nhất sẽ ở đầu dict"
   ]
  },
  {
   "cell_type": "code",
   "execution_count": 72,
   "metadata": {},
   "outputs": [],
   "source": [
    "average_rating_dict = dict(sorted(average_rating_dict.items(), key = lambda item: item[1], reverse = True))"
   ]
  },
  {
   "cell_type": "markdown",
   "metadata": {},
   "source": [
    "Lấy ra mảng các key (tên tác giả)"
   ]
  },
  {
   "cell_type": "code",
   "execution_count": 79,
   "metadata": {},
   "outputs": [
    {
     "data": {
      "text/plain": [
       "\"Phil T. O'Brien\""
      ]
     },
     "execution_count": 79,
     "metadata": {},
     "output_type": "execute_result"
    }
   ],
   "source": [
    "list(average_rating_dict.keys())[0]"
   ]
  },
  {
   "cell_type": "code",
   "execution_count": 71,
   "metadata": {},
   "outputs": [
    {
     "data": {
      "text/plain": [
       "['a', 'c', 'b']"
      ]
     },
     "execution_count": 71,
     "metadata": {},
     "output_type": "execute_result"
    }
   ],
   "source": [
    "a = {\n",
    "    'a': 4,\n",
    "    'b': 1,\n",
    "    'c': 2\n",
    "}\n",
    "a = dict(sorted(a.items(), key = lambda item: item[1], reverse = True))\n",
    "list(a.keys())"
   ]
  },
  {
   "cell_type": "markdown",
   "metadata": {
    "heading_collapsed": true
   },
   "source": [
    "## 5 - NHÌN LẠI QUÁ TRÌNH THỰC HIỆN"
   ]
  },
  {
   "cell_type": "markdown",
   "metadata": {
    "heading_collapsed": true
   },
   "source": [
    "## 6 - TÀI LIỆU THAM KHẢO"
   ]
  },
  {
   "cell_type": "markdown",
   "metadata": {},
   "source": [
    "- [kaggle.com](https://www.kaggle.com/) để lấy dữ liệu\n",
    "- Thư viện [Pandas](https://pandas.pydata.org/pandas-docs/stable/index.html)"
   ]
  }
 ],
 "metadata": {
  "kernelspec": {
   "display_name": "Python 3",
   "language": "python",
   "name": "python3"
  },
  "language_info": {
   "codemirror_mode": {
    "name": "ipython",
    "version": 3
   },
   "file_extension": ".py",
   "mimetype": "text/x-python",
   "name": "python",
   "nbconvert_exporter": "python",
   "pygments_lexer": "ipython3",
   "version": "3.7.4"
  },
  "toc": {
   "base_numbering": 1,
   "nav_menu": {},
   "number_sections": true,
   "sideBar": true,
   "skip_h1_title": false,
   "title_cell": "Table of Contents",
   "title_sidebar": "Contents",
   "toc_cell": false,
   "toc_position": {},
   "toc_section_display": true,
   "toc_window_display": false
  }
 },
 "nbformat": 4,
 "nbformat_minor": 4
}
