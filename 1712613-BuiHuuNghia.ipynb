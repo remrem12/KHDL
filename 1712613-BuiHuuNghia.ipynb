{
 "cells": [
  {
   "cell_type": "markdown",
   "metadata": {
    "slideshow": {
     "slide_type": "slide"
    }
   },
   "source": [
    "# ĐỒ ÁN CUỐI KÌ"
   ]
  },
  {
   "cell_type": "markdown",
   "metadata": {},
   "source": [
    "Bùi Hữu Nghĩa - 1712613"
   ]
  },
  {
   "cell_type": "markdown",
   "metadata": {},
   "source": [
    "## TỔNG QUAN"
   ]
  },
  {
   "cell_type": "markdown",
   "metadata": {},
   "source": [
    "Qui trình KHDL:\n",
    "- Đưa ra câu hỏi\n",
    "- Thu thập dữ liệu\n",
    "- Khám phá dữ liệu\n",
    "- Tiền xử lí\n",
    "- Phân tích, trả lời câu hỏi"
   ]
  },
  {
   "cell_type": "markdown",
   "metadata": {
    "heading_collapsed": true
   },
   "source": [
    "## 1 - THU THẬP DỮ LIỆU"
   ]
  },
  {
   "cell_type": "markdown",
   "metadata": {
    "hidden": true
   },
   "source": [
    "Ở đây em có dữ liệu là thông tin về các ứng dụng/trò chơi ở trên Steam  \n",
    "Dữ liệu được lấy từ trang [kaggle.com](https://www.kaggle.com)  \n",
    "Thông tin về dữ liệu tại [đây](https://www.kaggle.com/nikdavis/steam-store-games?select=steam.csv)  \n",
    "Người sở hữu: Nik Davis  \n",
    "License: **Attribution 4.0 International (CC BY 4.0)**  \n",
    "Dữ liệu được tác giả thu thập từ SteamStore và SteamSpy APIs"
   ]
  },
  {
   "cell_type": "markdown",
   "metadata": {
    "heading_collapsed": true
   },
   "source": [
    "## 2 - KHÁM PHÁ DỮ LIỆU"
   ]
  },
  {
   "cell_type": "markdown",
   "metadata": {
    "hidden": true
   },
   "source": [
    "Trước khi đưa ra câu hỏi để trả lời thì cần phải biết dữ liệu có gì. Vì vậy, đầu tiên ta cần đọc dữ liệu"
   ]
  },
  {
   "cell_type": "code",
   "execution_count": 31,
   "metadata": {
    "hidden": true
   },
   "outputs": [],
   "source": [
    "import numpy as np\n",
    "import pandas as pd\n",
    "import matplotlib as plt\n",
    "import re"
   ]
  },
  {
   "cell_type": "markdown",
   "metadata": {
    "hidden": true
   },
   "source": [
    "Dữ liệu lưu trữ thông tin của hơn 27 nghìn app/game, ở đây phần lớn là game nên em sẽ gọi tắt là game   \n",
    "Để biểu diễn trực quan dữ liệu, em dùng Dataframe của pandas"
   ]
  },
  {
   "cell_type": "code",
   "execution_count": 2,
   "metadata": {
    "hidden": true
   },
   "outputs": [],
   "source": [
    "games_df = pd.read_csv('steam.csv')"
   ]
  },
  {
   "cell_type": "code",
   "execution_count": 3,
   "metadata": {
    "hidden": true
   },
   "outputs": [
    {
     "data": {
      "text/plain": [
       "(27075, 18)"
      ]
     },
     "execution_count": 3,
     "metadata": {},
     "output_type": "execute_result"
    }
   ],
   "source": [
    "games_df.shape"
   ]
  },
  {
   "cell_type": "markdown",
   "metadata": {
    "hidden": true
   },
   "source": [
    "Vậy dữ liệu có kích thước là 27075 dòng x 18 cột"
   ]
  },
  {
   "cell_type": "markdown",
   "metadata": {
    "hidden": true
   },
   "source": [
    "Xem thử thông tin các game trông như thế nào"
   ]
  },
  {
   "cell_type": "code",
   "execution_count": 4,
   "metadata": {
    "hidden": true
   },
   "outputs": [
    {
     "data": {
      "text/html": [
       "<div>\n",
       "<style scoped>\n",
       "    .dataframe tbody tr th:only-of-type {\n",
       "        vertical-align: middle;\n",
       "    }\n",
       "\n",
       "    .dataframe tbody tr th {\n",
       "        vertical-align: top;\n",
       "    }\n",
       "\n",
       "    .dataframe thead th {\n",
       "        text-align: right;\n",
       "    }\n",
       "</style>\n",
       "<table border=\"1\" class=\"dataframe\">\n",
       "  <thead>\n",
       "    <tr style=\"text-align: right;\">\n",
       "      <th></th>\n",
       "      <th>appid</th>\n",
       "      <th>name</th>\n",
       "      <th>release_date</th>\n",
       "      <th>english</th>\n",
       "      <th>developer</th>\n",
       "      <th>publisher</th>\n",
       "      <th>platforms</th>\n",
       "      <th>required_age</th>\n",
       "      <th>categories</th>\n",
       "      <th>genres</th>\n",
       "      <th>steamspy_tags</th>\n",
       "      <th>achievements</th>\n",
       "      <th>positive_ratings</th>\n",
       "      <th>negative_ratings</th>\n",
       "      <th>average_playtime</th>\n",
       "      <th>median_playtime</th>\n",
       "      <th>owners</th>\n",
       "      <th>price</th>\n",
       "    </tr>\n",
       "  </thead>\n",
       "  <tbody>\n",
       "    <tr>\n",
       "      <td>0</td>\n",
       "      <td>10</td>\n",
       "      <td>Counter-Strike</td>\n",
       "      <td>2000-11-01</td>\n",
       "      <td>1</td>\n",
       "      <td>Valve</td>\n",
       "      <td>Valve</td>\n",
       "      <td>windows;mac;linux</td>\n",
       "      <td>0</td>\n",
       "      <td>Multi-player;Online Multi-Player;Local Multi-P...</td>\n",
       "      <td>Action</td>\n",
       "      <td>Action;FPS;Multiplayer</td>\n",
       "      <td>0</td>\n",
       "      <td>124534</td>\n",
       "      <td>3339</td>\n",
       "      <td>17612</td>\n",
       "      <td>317</td>\n",
       "      <td>10000000-20000000</td>\n",
       "      <td>7.19</td>\n",
       "    </tr>\n",
       "    <tr>\n",
       "      <td>1</td>\n",
       "      <td>20</td>\n",
       "      <td>Team Fortress Classic</td>\n",
       "      <td>1999-04-01</td>\n",
       "      <td>1</td>\n",
       "      <td>Valve</td>\n",
       "      <td>Valve</td>\n",
       "      <td>windows;mac;linux</td>\n",
       "      <td>0</td>\n",
       "      <td>Multi-player;Online Multi-Player;Local Multi-P...</td>\n",
       "      <td>Action</td>\n",
       "      <td>Action;FPS;Multiplayer</td>\n",
       "      <td>0</td>\n",
       "      <td>3318</td>\n",
       "      <td>633</td>\n",
       "      <td>277</td>\n",
       "      <td>62</td>\n",
       "      <td>5000000-10000000</td>\n",
       "      <td>3.99</td>\n",
       "    </tr>\n",
       "    <tr>\n",
       "      <td>2</td>\n",
       "      <td>30</td>\n",
       "      <td>Day of Defeat</td>\n",
       "      <td>2003-05-01</td>\n",
       "      <td>1</td>\n",
       "      <td>Valve</td>\n",
       "      <td>Valve</td>\n",
       "      <td>windows;mac;linux</td>\n",
       "      <td>0</td>\n",
       "      <td>Multi-player;Valve Anti-Cheat enabled</td>\n",
       "      <td>Action</td>\n",
       "      <td>FPS;World War II;Multiplayer</td>\n",
       "      <td>0</td>\n",
       "      <td>3416</td>\n",
       "      <td>398</td>\n",
       "      <td>187</td>\n",
       "      <td>34</td>\n",
       "      <td>5000000-10000000</td>\n",
       "      <td>3.99</td>\n",
       "    </tr>\n",
       "    <tr>\n",
       "      <td>3</td>\n",
       "      <td>40</td>\n",
       "      <td>Deathmatch Classic</td>\n",
       "      <td>2001-06-01</td>\n",
       "      <td>1</td>\n",
       "      <td>Valve</td>\n",
       "      <td>Valve</td>\n",
       "      <td>windows;mac;linux</td>\n",
       "      <td>0</td>\n",
       "      <td>Multi-player;Online Multi-Player;Local Multi-P...</td>\n",
       "      <td>Action</td>\n",
       "      <td>Action;FPS;Multiplayer</td>\n",
       "      <td>0</td>\n",
       "      <td>1273</td>\n",
       "      <td>267</td>\n",
       "      <td>258</td>\n",
       "      <td>184</td>\n",
       "      <td>5000000-10000000</td>\n",
       "      <td>3.99</td>\n",
       "    </tr>\n",
       "    <tr>\n",
       "      <td>4</td>\n",
       "      <td>50</td>\n",
       "      <td>Half-Life: Opposing Force</td>\n",
       "      <td>1999-11-01</td>\n",
       "      <td>1</td>\n",
       "      <td>Gearbox Software</td>\n",
       "      <td>Valve</td>\n",
       "      <td>windows;mac;linux</td>\n",
       "      <td>0</td>\n",
       "      <td>Single-player;Multi-player;Valve Anti-Cheat en...</td>\n",
       "      <td>Action</td>\n",
       "      <td>FPS;Action;Sci-fi</td>\n",
       "      <td>0</td>\n",
       "      <td>5250</td>\n",
       "      <td>288</td>\n",
       "      <td>624</td>\n",
       "      <td>415</td>\n",
       "      <td>5000000-10000000</td>\n",
       "      <td>3.99</td>\n",
       "    </tr>\n",
       "  </tbody>\n",
       "</table>\n",
       "</div>"
      ],
      "text/plain": [
       "   appid                       name release_date  english         developer  \\\n",
       "0     10             Counter-Strike   2000-11-01        1             Valve   \n",
       "1     20      Team Fortress Classic   1999-04-01        1             Valve   \n",
       "2     30              Day of Defeat   2003-05-01        1             Valve   \n",
       "3     40         Deathmatch Classic   2001-06-01        1             Valve   \n",
       "4     50  Half-Life: Opposing Force   1999-11-01        1  Gearbox Software   \n",
       "\n",
       "  publisher          platforms  required_age  \\\n",
       "0     Valve  windows;mac;linux             0   \n",
       "1     Valve  windows;mac;linux             0   \n",
       "2     Valve  windows;mac;linux             0   \n",
       "3     Valve  windows;mac;linux             0   \n",
       "4     Valve  windows;mac;linux             0   \n",
       "\n",
       "                                          categories  genres  \\\n",
       "0  Multi-player;Online Multi-Player;Local Multi-P...  Action   \n",
       "1  Multi-player;Online Multi-Player;Local Multi-P...  Action   \n",
       "2              Multi-player;Valve Anti-Cheat enabled  Action   \n",
       "3  Multi-player;Online Multi-Player;Local Multi-P...  Action   \n",
       "4  Single-player;Multi-player;Valve Anti-Cheat en...  Action   \n",
       "\n",
       "                  steamspy_tags  achievements  positive_ratings  \\\n",
       "0        Action;FPS;Multiplayer             0            124534   \n",
       "1        Action;FPS;Multiplayer             0              3318   \n",
       "2  FPS;World War II;Multiplayer             0              3416   \n",
       "3        Action;FPS;Multiplayer             0              1273   \n",
       "4             FPS;Action;Sci-fi             0              5250   \n",
       "\n",
       "   negative_ratings  average_playtime  median_playtime             owners  \\\n",
       "0              3339             17612              317  10000000-20000000   \n",
       "1               633               277               62   5000000-10000000   \n",
       "2               398               187               34   5000000-10000000   \n",
       "3               267               258              184   5000000-10000000   \n",
       "4               288               624              415   5000000-10000000   \n",
       "\n",
       "   price  \n",
       "0   7.19  \n",
       "1   3.99  \n",
       "2   3.99  \n",
       "3   3.99  \n",
       "4   3.99  "
      ]
     },
     "execution_count": 4,
     "metadata": {},
     "output_type": "execute_result"
    }
   ],
   "source": [
    "games_df.head()"
   ]
  },
  {
   "cell_type": "markdown",
   "metadata": {
    "hidden": true
   },
   "source": [
    "Mỗi dòng là thông tin của một game\n",
    "\n",
    "Thông tin về các cột như sau:  \n",
    "- **appid**  : là id của ứng dụng\n",
    "- **name**: tên game\n",
    "- **release_date**: ngày phát hành\n",
    "- **english**: ngôn ngữ hỗ trợ, 1 nếu là tiếng anh\n",
    "- **developer**: nhà phát triển\n",
    "- **publisher**: nhà phát hành\n",
    "- **platforms**: nền tảng(game hỗ trợ nền tảng nào, như Window, MAC, Linux)\n",
    "- **required_age**: độ tuổi yêu cầu\n",
    "- **categories**: loại trò chơi(yêu cầu) như chơi một hay nhiều người, đa nền tảng,... \n",
    "- **genres**: thể loại trò chơi(nội dung) như hành động, chiến thuật,...\n",
    "- **steamspy_tags**: giống như **genres**\n",
    "- **achievements**: thành tựu trong game(nếu có)\n",
    "- **positive_ratings/negative_ratings**: rating của game\n",
    "- **average_playtime**: thời gian chơi trung bình\n",
    "- **median_playtime**: thời gian chơi trung vị\n",
    "- **owners**: số người sở hữu\n",
    "- **price**: giá game(tính theo bảng Anh, British Pound Sterling - GBP)"
   ]
  },
  {
   "cell_type": "markdown",
   "metadata": {
    "hidden": true
   },
   "source": [
    "Xem thử kiểu dữ liệu của các cột dữ liệu"
   ]
  },
  {
   "cell_type": "code",
   "execution_count": 5,
   "metadata": {},
   "outputs": [
    {
     "data": {
      "text/plain": [
       "appid                 int64\n",
       "name                 object\n",
       "release_date         object\n",
       "english               int64\n",
       "developer            object\n",
       "publisher            object\n",
       "platforms            object\n",
       "required_age          int64\n",
       "categories           object\n",
       "genres               object\n",
       "steamspy_tags        object\n",
       "achievements          int64\n",
       "positive_ratings      int64\n",
       "negative_ratings      int64\n",
       "average_playtime      int64\n",
       "median_playtime       int64\n",
       "owners               object\n",
       "price               float64\n",
       "dtype: object"
      ]
     },
     "execution_count": 5,
     "metadata": {},
     "output_type": "execute_result"
    }
   ],
   "source": [
    "games_df.dtypes"
   ]
  },
  {
   "cell_type": "markdown",
   "metadata": {},
   "source": [
    "Như trên thì hầu hết các cột đều có kiểu dữ liệu phù hợp trừ cột **release_date(ngày phát hành)**. Việc tiếp theo cần làm là chuyển kiểu dữ liệu của **release_date** từ **object** sang **datetime**"
   ]
  },
  {
   "cell_type": "code",
   "execution_count": 20,
   "metadata": {},
   "outputs": [],
   "source": [
    "games_df['release_date'] = pd.to_datetime(games_df['release_date'], format=\"%Y-%m-%d\")"
   ]
  },
  {
   "cell_type": "markdown",
   "metadata": {},
   "source": [
    "Kiểm tra lại cột release_date đã đổi kiểu dữ liệu chưa"
   ]
  },
  {
   "cell_type": "code",
   "execution_count": 21,
   "metadata": {},
   "outputs": [
    {
     "data": {
      "text/plain": [
       "appid                        int64\n",
       "name                        object\n",
       "release_date        datetime64[ns]\n",
       "english                      int64\n",
       "developer                   object\n",
       "publisher                   object\n",
       "platforms                   object\n",
       "required_age                 int64\n",
       "categories                  object\n",
       "genres                      object\n",
       "steamspy_tags               object\n",
       "achievements                 int64\n",
       "positive_ratings             int64\n",
       "negative_ratings             int64\n",
       "average_playtime             int64\n",
       "median_playtime              int64\n",
       "owners                      object\n",
       "price                      float64\n",
       "dtype: object"
      ]
     },
     "execution_count": 21,
     "metadata": {},
     "output_type": "execute_result"
    }
   ],
   "source": [
    "games_df.dtypes"
   ]
  },
  {
   "cell_type": "markdown",
   "metadata": {},
   "source": [
    "Vậy là ta đã đổi kiểu dữ liệu thành công, có thể thao tác tới cột release_date.  \n",
    "Bây giờ ta cần tính miền giá trị của các cột dữ liệu có dạng **numeric** hoặc **datetime** như: **appid, release_date, required_age, achievement, positive_ratings, negative_ratings, average_playtime, median_playtime, price**  \n",
    "Có thể bỏ qua cột **english** vì chỉ có 2 giá trị là 0 và 1"
   ]
  },
  {
   "cell_type": "code",
   "execution_count": 22,
   "metadata": {},
   "outputs": [],
   "source": [
    "def cal_value_field(cols):\n",
    "    for col in cols:\n",
    "        print('Miền giá trị của', col, 'là: [', min(games_df[col]), ',', max(games_df[col]), ']')"
   ]
  },
  {
   "cell_type": "code",
   "execution_count": 28,
   "metadata": {},
   "outputs": [
    {
     "name": "stdout",
     "output_type": "stream",
     "text": [
      "Miền giá trị của appid là: [ 10 , 1069460 ]\n",
      "Miền giá trị của release_date là: [ 1997-06-30 00:00:00 , 2019-05-01 00:00:00 ]\n",
      "Miền giá trị của required_age là: [ 0 , 18 ]\n",
      "Miền giá trị của achievements là: [ 0 , 9821 ]\n",
      "Miền giá trị của positive_ratings là: [ 0 , 2644404 ]\n",
      "Miền giá trị của negative_ratings là: [ 0 , 487076 ]\n",
      "Miền giá trị của average_playtime là: [ 0 , 190625 ]\n",
      "Miền giá trị của median_playtime là: [ 0 , 190625 ]\n",
      "Miền giá trị của price là: [ 0.0 , 421.99 ]\n"
     ]
    }
   ],
   "source": [
    "cal_value_field([\n",
    "    'appid',\n",
    "    'release_date', \n",
    "    'required_age',\n",
    "    'achievements',\n",
    "    'positive_ratings',\n",
    "    'negative_ratings',\n",
    "    'average_playtime',\n",
    "    'median_playtime',\n",
    "    'price'\n",
    "])"
   ]
  },
  {
   "cell_type": "markdown",
   "metadata": {
    "heading_collapsed": true
   },
   "source": [
    "## 3 - CÁC CÂU HỎI CẦN ĐƯỢC TRẢ LỜI TỪ DỮ LIỆU"
   ]
  },
  {
   "cell_type": "markdown",
   "metadata": {},
   "source": [
    "- Game nào có doanh thu cao nhất\n",
    "- So sánh các nền tảng phát hành game\n",
    "- Game thể loại nào được chơi nhiều nhất\n",
    "- Nhà phát hành game nào có nhiều thành tựu trong game nhất"
   ]
  },
  {
   "cell_type": "markdown",
   "metadata": {
    "heading_collapsed": true
   },
   "source": [
    "## 4 - TRẢ LỜI CÂU HỎI"
   ]
  },
  {
   "cell_type": "markdown",
   "metadata": {},
   "source": [
    "### Game nào có doanh thu cao nhất"
   ]
  },
  {
   "cell_type": "markdown",
   "metadata": {},
   "source": [
    "Ở đây ta sẽ tính doanh thu của các game rồi chọn ra game có doanh thu cao nhất. Tuy nhiên ở tập dữ liệu này, cột **owners** tức người sỡ hữu chỉ là ước tính, có dạng lower_bound:upper_bound. Giả sử số người mua là trung bình của lower và upper thì doanh thu của game sẽ là revenue = (lower + upper) / 2 * price"
   ]
  },
  {
   "cell_type": "markdown",
   "metadata": {},
   "source": [
    "Trong cột **owners** có dạng lower-upper nên em dùng regex để tách lấy 2 giá trị  \n",
    "Tính cột doanh thu"
   ]
  },
  {
   "cell_type": "code",
   "execution_count": 68,
   "metadata": {},
   "outputs": [
    {
     "name": "stdout",
     "output_type": "stream",
     "text": [
      "<class 'str'> 200\n"
     ]
    }
   ],
   "source": [
    "txt = \"0-200\"\n",
    "x = re.findall(r\"\\d+\", txt)\n",
    "a, b = x\n",
    "print(type(a), b)"
   ]
  },
  {
   "cell_type": "code",
   "execution_count": 70,
   "metadata": {},
   "outputs": [
    {
     "data": {
      "text/plain": [
       "2.5"
      ]
     },
     "execution_count": 70,
     "metadata": {},
     "output_type": "execute_result"
    }
   ],
   "source": [
    "np.mean([2, 3])"
   ]
  },
  {
   "cell_type": "code",
   "execution_count": 81,
   "metadata": {},
   "outputs": [
    {
     "data": {
      "text/html": [
       "<div>\n",
       "<style scoped>\n",
       "    .dataframe tbody tr th:only-of-type {\n",
       "        vertical-align: middle;\n",
       "    }\n",
       "\n",
       "    .dataframe tbody tr th {\n",
       "        vertical-align: top;\n",
       "    }\n",
       "\n",
       "    .dataframe thead th {\n",
       "        text-align: right;\n",
       "    }\n",
       "</style>\n",
       "<table border=\"1\" class=\"dataframe\">\n",
       "  <thead>\n",
       "    <tr style=\"text-align: right;\">\n",
       "      <th></th>\n",
       "      <th>appid</th>\n",
       "      <th>name</th>\n",
       "      <th>release_date</th>\n",
       "      <th>english</th>\n",
       "      <th>developer</th>\n",
       "      <th>publisher</th>\n",
       "      <th>platforms</th>\n",
       "      <th>required_age</th>\n",
       "      <th>categories</th>\n",
       "      <th>genres</th>\n",
       "      <th>steamspy_tags</th>\n",
       "      <th>achievements</th>\n",
       "      <th>positive_ratings</th>\n",
       "      <th>negative_ratings</th>\n",
       "      <th>average_playtime</th>\n",
       "      <th>median_playtime</th>\n",
       "      <th>owners</th>\n",
       "      <th>price</th>\n",
       "      <th>revenue</th>\n",
       "    </tr>\n",
       "  </thead>\n",
       "  <tbody>\n",
       "    <tr>\n",
       "      <td>12836</td>\n",
       "      <td>578080</td>\n",
       "      <td>PLAYERUNKNOWN'S BATTLEGROUNDS</td>\n",
       "      <td>2017-12-21</td>\n",
       "      <td>1</td>\n",
       "      <td>PUBG Corporation</td>\n",
       "      <td>PUBG Corporation</td>\n",
       "      <td>windows</td>\n",
       "      <td>0</td>\n",
       "      <td>Multi-player;Online Multi-Player;Stats</td>\n",
       "      <td>Action;Adventure;Massively Multiplayer</td>\n",
       "      <td>Survival;Shooter;Multiplayer</td>\n",
       "      <td>37</td>\n",
       "      <td>496184</td>\n",
       "      <td>487076</td>\n",
       "      <td>22938</td>\n",
       "      <td>12434</td>\n",
       "      <td>50000000-100000000</td>\n",
       "      <td>26.99</td>\n",
       "      <td>2.024250e+09</td>\n",
       "    </tr>\n",
       "  </tbody>\n",
       "</table>\n",
       "</div>"
      ],
      "text/plain": [
       "        appid                           name release_date  english  \\\n",
       "12836  578080  PLAYERUNKNOWN'S BATTLEGROUNDS   2017-12-21        1   \n",
       "\n",
       "              developer         publisher platforms  required_age  \\\n",
       "12836  PUBG Corporation  PUBG Corporation   windows             0   \n",
       "\n",
       "                                   categories  \\\n",
       "12836  Multi-player;Online Multi-Player;Stats   \n",
       "\n",
       "                                       genres                 steamspy_tags  \\\n",
       "12836  Action;Adventure;Massively Multiplayer  Survival;Shooter;Multiplayer   \n",
       "\n",
       "       achievements  positive_ratings  negative_ratings  average_playtime  \\\n",
       "12836            37            496184            487076             22938   \n",
       "\n",
       "       median_playtime              owners  price       revenue  \n",
       "12836            12434  50000000-100000000  26.99  2.024250e+09  "
      ]
     },
     "execution_count": 81,
     "metadata": {},
     "output_type": "execute_result"
    }
   ],
   "source": [
    "# tạo cột doanh thu\n",
    "games_df['revenue'] = games_df['owners']\n",
    "\n",
    "# hàm tách giá trị từ owner rồi tính trung bình\n",
    "def cal_average(owner): \n",
    "    arr = re.findall(r\"\\d+\", owner)\n",
    "    return np.mean([int(arr[0]), int(arr[1])])\n",
    "\n",
    "# apply hàm ở trên vào cột revenue ta được cột revenue có giá trị là trung bình của lower và upper trong owners\n",
    "games_df['revenue'] = games_df['revenue'].apply(cal_average)\n",
    "\n",
    "# nhân cột revenue với cột price ta được doanh thu tính theo bảng Anh\n",
    "games_df['revenue'] = games_df['revenue'] * games_df['price']\n",
    "\n",
    "# tìm dòng có revenue lớn nhất\n",
    "games_df.loc[games_df['revenue'] == max(games_df['revenue'])]"
   ]
  },
  {
   "cell_type": "code",
   "execution_count": 84,
   "metadata": {},
   "outputs": [
    {
     "data": {
      "text/plain": [
       "2024250000.0"
      ]
     },
     "execution_count": 84,
     "metadata": {},
     "output_type": "execute_result"
    }
   ],
   "source": [
    "games_df.iloc[12836, 18]"
   ]
  },
  {
   "cell_type": "markdown",
   "metadata": {},
   "source": [
    "Vậy game có doanh thu cao nhất là **PLAYERUNKNOWN'S BATTLEGROUNDS** với doanh thu là $2,024,250,000$ bảng Anh"
   ]
  },
  {
   "cell_type": "markdown",
   "metadata": {},
   "source": [
    "### So sánh các nền tảng phát hành game"
   ]
  },
  {
   "cell_type": "markdown",
   "metadata": {},
   "source": [
    "### Game thể loại nào được chơi nhiều nhất"
   ]
  },
  {
   "cell_type": "markdown",
   "metadata": {},
   "source": [
    "### Nhà phát hành game nào có nhiều thành tựu trong game nhất"
   ]
  },
  {
   "cell_type": "markdown",
   "metadata": {
    "heading_collapsed": true
   },
   "source": [
    "## 5 - NHÌN LẠI QUÁ TRÌNH THỰC HIỆN"
   ]
  },
  {
   "cell_type": "markdown",
   "metadata": {
    "heading_collapsed": true
   },
   "source": [
    "## 6 - TÀI LIỆU THAM KHẢO"
   ]
  },
  {
   "cell_type": "markdown",
   "metadata": {},
   "source": [
    "- [kaggle.com](https://www.kaggle.com/) để lấy dữ liệu\n",
    "- Thư viện [Pandas](https://pandas.pydata.org/pandas-docs/stable/index.html)\n",
    "- Các demo của thầy trong môn LTCKHDL"
   ]
  }
 ],
 "metadata": {
  "kernelspec": {
   "display_name": "Python 3",
   "language": "python",
   "name": "python3"
  },
  "language_info": {
   "codemirror_mode": {
    "name": "ipython",
    "version": 3
   },
   "file_extension": ".py",
   "mimetype": "text/x-python",
   "name": "python",
   "nbconvert_exporter": "python",
   "pygments_lexer": "ipython3",
   "version": "3.7.4"
  },
  "toc": {
   "base_numbering": 1,
   "nav_menu": {},
   "number_sections": true,
   "sideBar": true,
   "skip_h1_title": false,
   "title_cell": "Table of Contents",
   "title_sidebar": "Contents",
   "toc_cell": false,
   "toc_position": {},
   "toc_section_display": true,
   "toc_window_display": false
  }
 },
 "nbformat": 4,
 "nbformat_minor": 4
}
