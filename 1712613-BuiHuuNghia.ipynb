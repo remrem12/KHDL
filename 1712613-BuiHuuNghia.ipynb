{
 "cells": [
  {
   "cell_type": "markdown",
   "metadata": {
    "slideshow": {
     "slide_type": "slide"
    }
   },
   "source": [
    "# ĐỒ ÁN CUỐI KÌ"
   ]
  },
  {
   "cell_type": "markdown",
   "metadata": {},
   "source": [
    "Bùi Hữu Nghĩa - 1712613"
   ]
  },
  {
   "cell_type": "markdown",
   "metadata": {},
   "source": [
    "## TỔNG QUAN"
   ]
  },
  {
   "cell_type": "markdown",
   "metadata": {},
   "source": [
    "Qui trình KHDL:\n",
    "- Đưa ra câu hỏi\n",
    "- Thu thập dữ liệu\n",
    "- Khám phá dữ liệu\n",
    "- Tiền xử lí\n",
    "- Phân tích, trả lời câu hỏi"
   ]
  },
  {
   "cell_type": "markdown",
   "metadata": {
    "heading_collapsed": true
   },
   "source": [
    "## 1 - THU THẬP DỮ LIỆU"
   ]
  },
  {
   "cell_type": "markdown",
   "metadata": {
    "hidden": true
   },
   "source": [
    "Ở đây em có dữ liệu là thông tin về các ứng dụng/trò chơi ở trên Steam  \n",
    "\n",
    "<img src=\"https://venturebeat.com/wp-content/uploads/2019/03/STEAM.jpg?w=1200&strip=all =300x200\" alt=\"drawing\" width=\"500\"/>  \n",
    "\n",
    "Dữ liệu được lấy từ trang [kaggle.com](https://www.kaggle.com)  \n",
    "Thông tin về dữ liệu tại [đây](https://www.kaggle.com/nikdavis/steam-store-games?select=steam.csv)  \n",
    "Người sở hữu: Nik Davis  \n",
    "License: **Attribution 4.0 International (CC BY 4.0)**  \n",
    "Dữ liệu được tác giả thu thập từ SteamStore và SteamSpy APIs"
   ]
  },
  {
   "cell_type": "markdown",
   "metadata": {
    "heading_collapsed": true
   },
   "source": [
    "## 2 - KHÁM PHÁ DỮ LIỆU"
   ]
  },
  {
   "cell_type": "markdown",
   "metadata": {
    "hidden": true
   },
   "source": [
    "Trước khi đưa ra câu hỏi để trả lời thì cần phải biết dữ liệu có gì. Vì vậy, đầu tiên ta cần đọc dữ liệu"
   ]
  },
  {
   "cell_type": "code",
   "execution_count": 1,
   "metadata": {
    "hidden": true
   },
   "outputs": [],
   "source": [
    "import numpy as np\n",
    "import pandas as pd\n",
    "import matplotlib as plt\n",
    "import re"
   ]
  },
  {
   "cell_type": "markdown",
   "metadata": {
    "hidden": true
   },
   "source": [
    "Dữ liệu lưu trữ thông tin của hơn 27 nghìn app/game, ở đây phần lớn là game nên em sẽ gọi tắt là game   \n",
    "Để biểu diễn trực quan dữ liệu, em dùng Dataframe của pandas"
   ]
  },
  {
   "cell_type": "code",
   "execution_count": 2,
   "metadata": {
    "hidden": true
   },
   "outputs": [],
   "source": [
    "games_df = pd.read_csv('steam.csv')"
   ]
  },
  {
   "cell_type": "code",
   "execution_count": 3,
   "metadata": {
    "hidden": true
   },
   "outputs": [
    {
     "data": {
      "text/plain": [
       "(27075, 18)"
      ]
     },
     "execution_count": 3,
     "metadata": {},
     "output_type": "execute_result"
    }
   ],
   "source": [
    "games_df.shape"
   ]
  },
  {
   "cell_type": "markdown",
   "metadata": {
    "hidden": true
   },
   "source": [
    "Vậy dữ liệu có kích thước là 27075 dòng x 18 cột"
   ]
  },
  {
   "cell_type": "markdown",
   "metadata": {
    "hidden": true
   },
   "source": [
    "Xem thử thông tin các game trông như thế nào"
   ]
  },
  {
   "cell_type": "code",
   "execution_count": 34,
   "metadata": {
    "hidden": true
   },
   "outputs": [
    {
     "data": {
      "text/html": [
       "<div>\n",
       "<style scoped>\n",
       "    .dataframe tbody tr th:only-of-type {\n",
       "        vertical-align: middle;\n",
       "    }\n",
       "\n",
       "    .dataframe tbody tr th {\n",
       "        vertical-align: top;\n",
       "    }\n",
       "\n",
       "    .dataframe thead th {\n",
       "        text-align: right;\n",
       "    }\n",
       "</style>\n",
       "<table border=\"1\" class=\"dataframe\">\n",
       "  <thead>\n",
       "    <tr style=\"text-align: right;\">\n",
       "      <th></th>\n",
       "      <th>appid</th>\n",
       "      <th>name</th>\n",
       "      <th>release_date</th>\n",
       "      <th>english</th>\n",
       "      <th>developer</th>\n",
       "      <th>publisher</th>\n",
       "      <th>platforms</th>\n",
       "      <th>required_age</th>\n",
       "      <th>categories</th>\n",
       "      <th>genres</th>\n",
       "      <th>steamspy_tags</th>\n",
       "      <th>achievements</th>\n",
       "      <th>positive_ratings</th>\n",
       "      <th>negative_ratings</th>\n",
       "      <th>average_playtime</th>\n",
       "      <th>median_playtime</th>\n",
       "      <th>owners</th>\n",
       "      <th>price</th>\n",
       "      <th>revenue</th>\n",
       "    </tr>\n",
       "  </thead>\n",
       "  <tbody>\n",
       "    <tr>\n",
       "      <td>0</td>\n",
       "      <td>10</td>\n",
       "      <td>Counter-Strike</td>\n",
       "      <td>2000-11-01</td>\n",
       "      <td>1</td>\n",
       "      <td>Valve</td>\n",
       "      <td>Valve</td>\n",
       "      <td>windows;mac;linux</td>\n",
       "      <td>0</td>\n",
       "      <td>Multi-player;Online Multi-Player;Local Multi-P...</td>\n",
       "      <td>Action</td>\n",
       "      <td>Action;FPS;Multiplayer</td>\n",
       "      <td>0</td>\n",
       "      <td>124534</td>\n",
       "      <td>3339</td>\n",
       "      <td>17612</td>\n",
       "      <td>317</td>\n",
       "      <td>10000000-20000000</td>\n",
       "      <td>7.19</td>\n",
       "      <td>107850000.0</td>\n",
       "    </tr>\n",
       "    <tr>\n",
       "      <td>1</td>\n",
       "      <td>20</td>\n",
       "      <td>Team Fortress Classic</td>\n",
       "      <td>1999-04-01</td>\n",
       "      <td>1</td>\n",
       "      <td>Valve</td>\n",
       "      <td>Valve</td>\n",
       "      <td>windows;mac;linux</td>\n",
       "      <td>0</td>\n",
       "      <td>Multi-player;Online Multi-Player;Local Multi-P...</td>\n",
       "      <td>Action</td>\n",
       "      <td>Action;FPS;Multiplayer</td>\n",
       "      <td>0</td>\n",
       "      <td>3318</td>\n",
       "      <td>633</td>\n",
       "      <td>277</td>\n",
       "      <td>62</td>\n",
       "      <td>5000000-10000000</td>\n",
       "      <td>3.99</td>\n",
       "      <td>29925000.0</td>\n",
       "    </tr>\n",
       "  </tbody>\n",
       "</table>\n",
       "</div>"
      ],
      "text/plain": [
       "   appid                   name release_date  english developer publisher  \\\n",
       "0     10         Counter-Strike   2000-11-01        1     Valve     Valve   \n",
       "1     20  Team Fortress Classic   1999-04-01        1     Valve     Valve   \n",
       "\n",
       "           platforms  required_age  \\\n",
       "0  windows;mac;linux             0   \n",
       "1  windows;mac;linux             0   \n",
       "\n",
       "                                          categories  genres  \\\n",
       "0  Multi-player;Online Multi-Player;Local Multi-P...  Action   \n",
       "1  Multi-player;Online Multi-Player;Local Multi-P...  Action   \n",
       "\n",
       "            steamspy_tags  achievements  positive_ratings  negative_ratings  \\\n",
       "0  Action;FPS;Multiplayer             0            124534              3339   \n",
       "1  Action;FPS;Multiplayer             0              3318               633   \n",
       "\n",
       "   average_playtime  median_playtime             owners  price      revenue  \n",
       "0             17612              317  10000000-20000000   7.19  107850000.0  \n",
       "1               277               62   5000000-10000000   3.99   29925000.0  "
      ]
     },
     "execution_count": 34,
     "metadata": {},
     "output_type": "execute_result"
    }
   ],
   "source": [
    "games_df.head(2)"
   ]
  },
  {
   "cell_type": "markdown",
   "metadata": {
    "hidden": true
   },
   "source": [
    "Mỗi dòng là thông tin của một game\n",
    "\n",
    "Thông tin về các cột như sau:  \n",
    "- **appid**  : là id của ứng dụng\n",
    "- **name**: tên game\n",
    "- **release_date**: ngày phát hành\n",
    "- **english**: ngôn ngữ hỗ trợ, 1 nếu là tiếng anh\n",
    "- **developer**: nhà phát triển\n",
    "- **publisher**: nhà phát hành\n",
    "- **platforms**: nền tảng(game hỗ trợ nền tảng nào, như Window, MAC, Linux)\n",
    "- **required_age**: độ tuổi yêu cầu\n",
    "- **categories**: loại trò chơi(yêu cầu) như chơi một hay nhiều người, đa nền tảng,... \n",
    "- **genres**: thể loại trò chơi(nội dung) như hành động, chiến thuật,...\n",
    "- **steamspy_tags**: giống như **genres**\n",
    "- **achievements**: thành tựu trong game(nếu có)\n",
    "- **positive_ratings/negative_ratings**: rating của game\n",
    "- **average_playtime**: thời gian chơi trung bình\n",
    "- **median_playtime**: thời gian chơi trung vị\n",
    "- **owners**: số người sở hữu\n",
    "- **price**: giá game(tính theo bảng Anh, British Pound Sterling - GBP)"
   ]
  },
  {
   "cell_type": "markdown",
   "metadata": {
    "hidden": true
   },
   "source": [
    "Xem thử kiểu dữ liệu của các cột dữ liệu"
   ]
  },
  {
   "cell_type": "code",
   "execution_count": 5,
   "metadata": {},
   "outputs": [
    {
     "data": {
      "text/plain": [
       "appid                 int64\n",
       "name                 object\n",
       "release_date         object\n",
       "english               int64\n",
       "developer            object\n",
       "publisher            object\n",
       "platforms            object\n",
       "required_age          int64\n",
       "categories           object\n",
       "genres               object\n",
       "steamspy_tags        object\n",
       "achievements          int64\n",
       "positive_ratings      int64\n",
       "negative_ratings      int64\n",
       "average_playtime      int64\n",
       "median_playtime       int64\n",
       "owners               object\n",
       "price               float64\n",
       "dtype: object"
      ]
     },
     "execution_count": 5,
     "metadata": {},
     "output_type": "execute_result"
    }
   ],
   "source": [
    "games_df.dtypes"
   ]
  },
  {
   "cell_type": "markdown",
   "metadata": {},
   "source": [
    "Như trên thì hầu hết các cột đều có kiểu dữ liệu phù hợp trừ cột **release_date(ngày phát hành)**. Việc tiếp theo cần làm là chuyển kiểu dữ liệu của **release_date** từ **object** sang **datetime**"
   ]
  },
  {
   "cell_type": "code",
   "execution_count": 6,
   "metadata": {},
   "outputs": [],
   "source": [
    "games_df['release_date'] = pd.to_datetime(games_df['release_date'], format=\"%Y-%m-%d\")"
   ]
  },
  {
   "cell_type": "markdown",
   "metadata": {},
   "source": [
    "Kiểm tra lại cột release_date đã đổi kiểu dữ liệu chưa"
   ]
  },
  {
   "cell_type": "code",
   "execution_count": 7,
   "metadata": {},
   "outputs": [
    {
     "data": {
      "text/plain": [
       "appid                        int64\n",
       "name                        object\n",
       "release_date        datetime64[ns]\n",
       "english                      int64\n",
       "developer                   object\n",
       "publisher                   object\n",
       "platforms                   object\n",
       "required_age                 int64\n",
       "categories                  object\n",
       "genres                      object\n",
       "steamspy_tags               object\n",
       "achievements                 int64\n",
       "positive_ratings             int64\n",
       "negative_ratings             int64\n",
       "average_playtime             int64\n",
       "median_playtime              int64\n",
       "owners                      object\n",
       "price                      float64\n",
       "dtype: object"
      ]
     },
     "execution_count": 7,
     "metadata": {},
     "output_type": "execute_result"
    }
   ],
   "source": [
    "games_df.dtypes"
   ]
  },
  {
   "cell_type": "markdown",
   "metadata": {},
   "source": [
    "Vậy là ta đã đổi kiểu dữ liệu thành công, có thể thao tác tới cột release_date.  \n",
    "Bây giờ ta cần tính miền giá trị của các cột dữ liệu có dạng **numeric** hoặc **datetime** như: **appid, release_date, required_age, achievement, positive_ratings, negative_ratings, average_playtime, median_playtime, price**  \n",
    "Có thể bỏ qua cột **english** vì chỉ có 2 giá trị là 0 và 1"
   ]
  },
  {
   "cell_type": "code",
   "execution_count": 8,
   "metadata": {},
   "outputs": [
    {
     "data": {
      "text/html": [
       "<div>\n",
       "<style scoped>\n",
       "    .dataframe tbody tr th:only-of-type {\n",
       "        vertical-align: middle;\n",
       "    }\n",
       "\n",
       "    .dataframe tbody tr th {\n",
       "        vertical-align: top;\n",
       "    }\n",
       "\n",
       "    .dataframe thead th {\n",
       "        text-align: right;\n",
       "    }\n",
       "</style>\n",
       "<table border=\"1\" class=\"dataframe\">\n",
       "  <thead>\n",
       "    <tr style=\"text-align: right;\">\n",
       "      <th></th>\n",
       "      <th>appid</th>\n",
       "      <th>english</th>\n",
       "      <th>required_age</th>\n",
       "      <th>achievements</th>\n",
       "      <th>positive_ratings</th>\n",
       "      <th>negative_ratings</th>\n",
       "      <th>average_playtime</th>\n",
       "      <th>median_playtime</th>\n",
       "      <th>price</th>\n",
       "    </tr>\n",
       "  </thead>\n",
       "  <tbody>\n",
       "    <tr>\n",
       "      <td>count</td>\n",
       "      <td>2.707500e+04</td>\n",
       "      <td>27075.000000</td>\n",
       "      <td>27075.000000</td>\n",
       "      <td>27075.000000</td>\n",
       "      <td>2.707500e+04</td>\n",
       "      <td>27075.000000</td>\n",
       "      <td>27075.000000</td>\n",
       "      <td>27075.00000</td>\n",
       "      <td>27075.000000</td>\n",
       "    </tr>\n",
       "    <tr>\n",
       "      <td>mean</td>\n",
       "      <td>5.962035e+05</td>\n",
       "      <td>0.981127</td>\n",
       "      <td>0.354903</td>\n",
       "      <td>45.248864</td>\n",
       "      <td>1.000559e+03</td>\n",
       "      <td>211.027147</td>\n",
       "      <td>149.804949</td>\n",
       "      <td>146.05603</td>\n",
       "      <td>6.078193</td>\n",
       "    </tr>\n",
       "    <tr>\n",
       "      <td>std</td>\n",
       "      <td>2.508942e+05</td>\n",
       "      <td>0.136081</td>\n",
       "      <td>2.406044</td>\n",
       "      <td>352.670281</td>\n",
       "      <td>1.898872e+04</td>\n",
       "      <td>4284.938531</td>\n",
       "      <td>1827.038141</td>\n",
       "      <td>2353.88008</td>\n",
       "      <td>7.874922</td>\n",
       "    </tr>\n",
       "    <tr>\n",
       "      <td>min</td>\n",
       "      <td>1.000000e+01</td>\n",
       "      <td>0.000000</td>\n",
       "      <td>0.000000</td>\n",
       "      <td>0.000000</td>\n",
       "      <td>0.000000e+00</td>\n",
       "      <td>0.000000</td>\n",
       "      <td>0.000000</td>\n",
       "      <td>0.00000</td>\n",
       "      <td>0.000000</td>\n",
       "    </tr>\n",
       "    <tr>\n",
       "      <td>25%</td>\n",
       "      <td>4.012300e+05</td>\n",
       "      <td>1.000000</td>\n",
       "      <td>0.000000</td>\n",
       "      <td>0.000000</td>\n",
       "      <td>6.000000e+00</td>\n",
       "      <td>2.000000</td>\n",
       "      <td>0.000000</td>\n",
       "      <td>0.00000</td>\n",
       "      <td>1.690000</td>\n",
       "    </tr>\n",
       "    <tr>\n",
       "      <td>50%</td>\n",
       "      <td>5.990700e+05</td>\n",
       "      <td>1.000000</td>\n",
       "      <td>0.000000</td>\n",
       "      <td>7.000000</td>\n",
       "      <td>2.400000e+01</td>\n",
       "      <td>9.000000</td>\n",
       "      <td>0.000000</td>\n",
       "      <td>0.00000</td>\n",
       "      <td>3.990000</td>\n",
       "    </tr>\n",
       "    <tr>\n",
       "      <td>75%</td>\n",
       "      <td>7.987600e+05</td>\n",
       "      <td>1.000000</td>\n",
       "      <td>0.000000</td>\n",
       "      <td>23.000000</td>\n",
       "      <td>1.260000e+02</td>\n",
       "      <td>42.000000</td>\n",
       "      <td>0.000000</td>\n",
       "      <td>0.00000</td>\n",
       "      <td>7.190000</td>\n",
       "    </tr>\n",
       "    <tr>\n",
       "      <td>max</td>\n",
       "      <td>1.069460e+06</td>\n",
       "      <td>1.000000</td>\n",
       "      <td>18.000000</td>\n",
       "      <td>9821.000000</td>\n",
       "      <td>2.644404e+06</td>\n",
       "      <td>487076.000000</td>\n",
       "      <td>190625.000000</td>\n",
       "      <td>190625.00000</td>\n",
       "      <td>421.990000</td>\n",
       "    </tr>\n",
       "  </tbody>\n",
       "</table>\n",
       "</div>"
      ],
      "text/plain": [
       "              appid       english  required_age  achievements  \\\n",
       "count  2.707500e+04  27075.000000  27075.000000  27075.000000   \n",
       "mean   5.962035e+05      0.981127      0.354903     45.248864   \n",
       "std    2.508942e+05      0.136081      2.406044    352.670281   \n",
       "min    1.000000e+01      0.000000      0.000000      0.000000   \n",
       "25%    4.012300e+05      1.000000      0.000000      0.000000   \n",
       "50%    5.990700e+05      1.000000      0.000000      7.000000   \n",
       "75%    7.987600e+05      1.000000      0.000000     23.000000   \n",
       "max    1.069460e+06      1.000000     18.000000   9821.000000   \n",
       "\n",
       "       positive_ratings  negative_ratings  average_playtime  median_playtime  \\\n",
       "count      2.707500e+04      27075.000000      27075.000000      27075.00000   \n",
       "mean       1.000559e+03        211.027147        149.804949        146.05603   \n",
       "std        1.898872e+04       4284.938531       1827.038141       2353.88008   \n",
       "min        0.000000e+00          0.000000          0.000000          0.00000   \n",
       "25%        6.000000e+00          2.000000          0.000000          0.00000   \n",
       "50%        2.400000e+01          9.000000          0.000000          0.00000   \n",
       "75%        1.260000e+02         42.000000          0.000000          0.00000   \n",
       "max        2.644404e+06     487076.000000     190625.000000     190625.00000   \n",
       "\n",
       "              price  \n",
       "count  27075.000000  \n",
       "mean       6.078193  \n",
       "std        7.874922  \n",
       "min        0.000000  \n",
       "25%        1.690000  \n",
       "50%        3.990000  \n",
       "75%        7.190000  \n",
       "max      421.990000  "
      ]
     },
     "execution_count": 8,
     "metadata": {},
     "output_type": "execute_result"
    }
   ],
   "source": [
    "games_df.describe()"
   ]
  },
  {
   "cell_type": "code",
   "execution_count": 9,
   "metadata": {},
   "outputs": [],
   "source": [
    "def cal_value_field(cols):\n",
    "    for col in cols:\n",
    "        print('Miền giá trị của', col, 'là: [', games_df[col].min(), ',', games_df[col].max(), ']')"
   ]
  },
  {
   "cell_type": "code",
   "execution_count": 10,
   "metadata": {},
   "outputs": [
    {
     "name": "stdout",
     "output_type": "stream",
     "text": [
      "Miền giá trị của appid là: [ 10 , 1069460 ]\n",
      "Miền giá trị của release_date là: [ 1997-06-30 00:00:00 , 2019-05-01 00:00:00 ]\n",
      "Miền giá trị của required_age là: [ 0 , 18 ]\n",
      "Miền giá trị của achievements là: [ 0 , 9821 ]\n",
      "Miền giá trị của positive_ratings là: [ 0 , 2644404 ]\n",
      "Miền giá trị của negative_ratings là: [ 0 , 487076 ]\n",
      "Miền giá trị của average_playtime là: [ 0 , 190625 ]\n",
      "Miền giá trị của median_playtime là: [ 0 , 190625 ]\n",
      "Miền giá trị của price là: [ 0.0 , 421.99 ]\n"
     ]
    }
   ],
   "source": [
    "cal_value_field([\n",
    "    'appid',\n",
    "    'release_date', \n",
    "    'required_age',\n",
    "    'achievements',\n",
    "    'positive_ratings',\n",
    "    'negative_ratings',\n",
    "    'average_playtime',\n",
    "    'median_playtime',\n",
    "    'price'\n",
    "])"
   ]
  },
  {
   "cell_type": "markdown",
   "metadata": {},
   "source": [
    "Các giá trị có thể có của các cột dữ liệu có dạng **categorical**: **platforms, categories, genres, steamspy_tags**"
   ]
  },
  {
   "cell_type": "markdown",
   "metadata": {},
   "source": [
    "Nhìn qua thì thấy các cột này giá trị có dạng `val1;val2;...`, phân cách với nhau bởi `;`  \n",
    "Dùng hàm split để tách nó ra"
   ]
  },
  {
   "cell_type": "code",
   "execution_count": 11,
   "metadata": {},
   "outputs": [],
   "source": [
    "# hàm tìm giá trị\n",
    "def categorical_val(col):\n",
    "    # từ cột dữ liệu, tạo 1 DataFrame dựa trên các dữ liệu có dạng categorical trong đó\n",
    "    val = games_df[col].str.split(';', expand=True)\n",
    "    # dùng apply để dùng hàm value_counts của Series cho dataframe vừa tạo\n",
    "    s = val.apply(pd.Series.value_counts).fillna(0).sum(axis=1)\n",
    "    return list(s.index)"
   ]
  },
  {
   "cell_type": "code",
   "execution_count": 12,
   "metadata": {},
   "outputs": [
    {
     "name": "stdout",
     "output_type": "stream",
     "text": [
      "CÁC GIÁ TRỊ CÓ THỂ CỦA CÁC CỘT DẠNG CATEGORICAL\n",
      "-----platforms-----\n",
      " ['linux', 'mac', 'windows']\n",
      "-----categories-----\n",
      " ['Captions available', 'Co-op', 'Commentary available', 'Cross-Platform Multiplayer', 'Full controller support', 'In-App Purchases', 'Includes Source SDK', 'Includes level editor', 'Local Co-op', 'Local Multi-Player', 'MMO', 'Mods', 'Mods (require HL2)', 'Multi-player', 'Online Co-op', 'Online Multi-Player', 'Partial Controller Support', 'Shared/Split Screen', 'Single-player', 'Stats', 'Steam Achievements', 'Steam Cloud', 'Steam Leaderboards', 'Steam Trading Cards', 'Steam Turn Notifications', 'Steam Workshop', 'SteamVR Collectibles', 'VR Support', 'Valve Anti-Cheat enabled']\n",
      "-----genres-----\n",
      " ['Accounting', 'Action', 'Adventure', 'Animation & Modeling', 'Audio Production', 'Casual', 'Design & Illustration', 'Documentary', 'Early Access', 'Education', 'Free to Play', 'Game Development', 'Gore', 'Indie', 'Massively Multiplayer', 'Nudity', 'Photo Editing', 'RPG', 'Racing', 'Sexual Content', 'Simulation', 'Software Training', 'Sports', 'Strategy', 'Tutorial', 'Utilities', 'Video Production', 'Violent', 'Web Publishing']\n",
      "-----steamspy_tags-----\n",
      " ['1980s', \"1990's\", '2.5D', '2D', '2D Fighter', '360 Video', '3D', '3D Platformer', '3D Vision', '4 Player Local', '4X', '6DOF', 'Abstract', 'Action', 'Action RPG', 'Action-Adventure', 'Adventure', 'Agriculture', 'Aliens', 'Alternate History', 'America', 'Animation & Modeling', 'Anime', 'Arcade', 'Arena Shooter', 'Assassin', 'Atmospheric', 'Audio Production', 'BMX', 'Base-Building', 'Baseball', 'Basketball', 'Batman', 'Battle Royale', \"Beat 'em up\", 'Beautiful', 'Benchmark', 'Bikes', 'Blood', 'Board Game', 'Bowling', 'Building', 'Bullet Hell', 'Bullet Time', 'CRPG', 'Capitalism', 'Card Game', 'Cartoon', 'Cartoony', 'Casual', 'Cats', 'Character Action Game', 'Character Customization', 'Chess', 'Choices Matter', 'Choose Your Own Adventure', 'Cinematic', 'City Builder', 'Class-Based', 'Classic', 'Clicker', 'Co-op', 'Cold War', 'Colorful', 'Comedy', 'Comic Book', 'Competitive', 'Controller', 'Conversation', 'Crafting', 'Crime', 'Cult Classic', 'Cute', 'Cyberpunk', 'Cycling', 'Dark', 'Dark Fantasy', 'Dark Humor', 'Dating Sim', 'Demons', 'Design & Illustration', 'Destruction', 'Detective', 'Difficult', 'Dinosaurs', 'Diplomacy', 'Documentary', 'Dog', 'Dragons', 'Drama', 'Driving', 'Dungeon Crawler', 'Dungeons & Dragons', 'Dystopian ', 'Early Access', 'Economy', 'Education', 'Epic', 'Experimental', 'Exploration', 'FMV', 'FPS', 'Faith', 'Family Friendly', 'Fantasy', 'Fast-Paced', 'Female Protagonist', 'Fighting', 'First-Person', 'Fishing', 'Flight', 'Football', 'Free to Play', 'Funny', 'Futuristic', 'Gambling', 'Game Development', 'GameMaker', 'Games Workshop', 'God Game', 'Golf', 'Gore', 'Gothic', 'Grand Strategy', 'Great Soundtrack', 'Grid-Based Movement', 'Gun Customization', 'Hack and Slash', 'Hacking', 'Hand-drawn', 'Heist', 'Hex Grid', 'Hidden Object', 'Historical', 'Hockey', 'Horror', 'Horses', 'Hunting', 'Illuminati', 'Indie', 'Intentionally Awkward Controls', 'Interactive Fiction', 'Inventory Management', 'Investigation', 'Isometric', 'JRPG', 'Kickstarter', 'LEGO', 'Lara Croft', 'Lemmings', 'Level Editor', 'Linear', 'Local Co-Op', 'Local Multiplayer', 'Logic', 'Loot', 'Lovecraftian', 'MMORPG', 'MOBA', 'Magic', 'Management', 'Mars', 'Martial Arts', 'Massively Multiplayer', 'Masterpiece', 'Match 3', 'Mature', 'Mechs', 'Medieval', 'Memes', 'Metroidvania', 'Military', 'Mini Golf', 'Minimalist', 'Mining', 'Mod', 'Moddable', 'Motocross', 'Motorbike', 'Mouse only', 'Movie', 'Multiplayer', 'Multiple Endings', 'Music', 'Music-Based Procedural Generation', 'Mystery', 'Mystery Dungeon', 'Mythology', 'NSFW', 'Narration', 'Naval', 'Ninja', 'Noir', 'Nonlinear', 'Nudity', 'Offroad', 'Old School', 'On-Rails Shooter', 'Online Co-Op', 'Open World', 'Otome', 'Parkour', 'Parody ', 'Party-Based RPG', 'Perma Death', 'Philisophical', 'Photo Editing', 'Physics', 'Pinball', 'Pirates', 'Pixel Graphics', 'Platformer', 'Point & Click', 'Political', 'Politics', 'Pool', 'Post-apocalyptic', 'Procedural Generation', 'Programming', 'Psychedelic', 'Psychological', 'Psychological Horror', 'Puzzle', 'Puzzle-Platformer', 'PvP', 'Quick-Time Events', 'RPG', 'RPGMaker', 'RTS', 'Racing', 'Real Time Tactics', 'Real-Time', 'Real-Time with Pause', 'Realistic', 'Relaxing', 'Remake', 'Replay Value', 'Resource Management', 'Retro', 'Rhythm', 'Robots', 'Rogue-like', 'Rogue-lite', 'Romance', 'Rome', 'Runner', 'Sailing', 'Sandbox', 'Satire', 'Sci-fi', 'Science', 'Score Attack', 'Sexual Content', \"Shoot 'Em Up\", 'Shooter', 'Short', 'Side Scroller', 'Simulation', 'Singleplayer', 'Skateboarding', 'Skating', 'Sniper', 'Snow', 'Snowboarding', 'Soccer', 'Software', 'Software Training', 'Sokoban', 'Souls-like', 'Space', 'Space Sim', 'Spectacle fighter', 'Spelling', 'Split Screen', 'Sports', 'Star Wars', 'Stealth', 'Steampunk', 'Story Rich', 'Strategy', 'Strategy RPG', 'Stylized', 'Submarine', 'Superhero', 'Supernatural', 'Surreal', 'Survival', 'Survival Horror', 'Swordplay', 'Tactical', 'Tactical RPG', 'Tanks', 'Team-Based', 'Tennis', 'Text-Based', 'Third Person', 'Third-Person Shooter', 'Thriller', 'Time Attack', 'Time Management', 'Time Manipulation', 'Time Travel', 'Top-Down', 'Top-Down Shooter', 'Touch-Friendly', 'Tower Defense', 'Trading', 'Trading Card Game', 'Trains', 'Turn-Based', 'Turn-Based Combat', 'Turn-Based Strategy', 'Turn-Based Tactics', 'Twin Stick Shooter', 'Typing', 'Underwater', 'Utilities', 'VR', 'VR Only', 'Vampire', 'Video Production', 'Villain Protagonist', 'Violent', 'Visual Novel', 'Voice Control', 'Voxel', 'Walking Simulator', 'War', 'Wargame', 'Warhammer 40K', 'Web Publishing', 'Werewolves', 'Western', 'Word Game', 'World War I', 'World War II', 'Wrestling', 'Zombies', 'e-sports']\n"
     ]
    }
   ],
   "source": [
    "print('CÁC GIÁ TRỊ CÓ THỂ CỦA CÁC CỘT DẠNG CATEGORICAL')\n",
    "print('-----platforms-----\\n', categorical_val('platforms'))\n",
    "print('-----categories-----\\n', categorical_val('categories'))\n",
    "print('-----genres-----\\n', categorical_val('genres'))\n",
    "print('-----steamspy_tags-----\\n', categorical_val('steamspy_tags'))"
   ]
  },
  {
   "cell_type": "markdown",
   "metadata": {
    "heading_collapsed": true
   },
   "source": [
    "## 3 - CÁC CÂU HỎI CẦN ĐƯỢC TRẢ LỜI TỪ DỮ LIỆU"
   ]
  },
  {
   "cell_type": "markdown",
   "metadata": {},
   "source": [
    "- So sánh các nền tảng phát hành game\n",
    "- Game nào có doanh thu cao nhất\n",
    "- Game thể loại nào được chơi nhiều nhất\n",
    "- Nhà phát hành game nào có nhiều thành tựu trong game nhất"
   ]
  },
  {
   "cell_type": "markdown",
   "metadata": {
    "heading_collapsed": true
   },
   "source": [
    "## 4 - TRẢ LỜI CÂU HỎI"
   ]
  },
  {
   "cell_type": "markdown",
   "metadata": {},
   "source": [
    "### So sánh các nền tảng phát hành game"
   ]
  },
  {
   "cell_type": "markdown",
   "metadata": {},
   "source": [
    "So sánh thị phần các nền tảng hệ điều hành mà game được phát hành để biết nền tảng nào được phát hành nhiều game nhất, tương quan giữa các nền tảng với nhau"
   ]
  },
  {
   "cell_type": "markdown",
   "metadata": {},
   "source": [
    "Tạo 1 DataFrame từ cột platforms đã split"
   ]
  },
  {
   "cell_type": "code",
   "execution_count": 13,
   "metadata": {},
   "outputs": [
    {
     "data": {
      "text/html": [
       "<div>\n",
       "<style scoped>\n",
       "    .dataframe tbody tr th:only-of-type {\n",
       "        vertical-align: middle;\n",
       "    }\n",
       "\n",
       "    .dataframe tbody tr th {\n",
       "        vertical-align: top;\n",
       "    }\n",
       "\n",
       "    .dataframe thead th {\n",
       "        text-align: right;\n",
       "    }\n",
       "</style>\n",
       "<table border=\"1\" class=\"dataframe\">\n",
       "  <thead>\n",
       "    <tr style=\"text-align: right;\">\n",
       "      <th></th>\n",
       "      <th>0</th>\n",
       "      <th>1</th>\n",
       "      <th>2</th>\n",
       "    </tr>\n",
       "  </thead>\n",
       "  <tbody>\n",
       "    <tr>\n",
       "      <td>21968</td>\n",
       "      <td>windows</td>\n",
       "      <td>None</td>\n",
       "      <td>None</td>\n",
       "    </tr>\n",
       "    <tr>\n",
       "      <td>24765</td>\n",
       "      <td>windows</td>\n",
       "      <td>None</td>\n",
       "      <td>None</td>\n",
       "    </tr>\n",
       "    <tr>\n",
       "      <td>5473</td>\n",
       "      <td>windows</td>\n",
       "      <td>mac</td>\n",
       "      <td>None</td>\n",
       "    </tr>\n",
       "    <tr>\n",
       "      <td>15564</td>\n",
       "      <td>windows</td>\n",
       "      <td>mac</td>\n",
       "      <td>None</td>\n",
       "    </tr>\n",
       "    <tr>\n",
       "      <td>7537</td>\n",
       "      <td>windows</td>\n",
       "      <td>None</td>\n",
       "      <td>None</td>\n",
       "    </tr>\n",
       "  </tbody>\n",
       "</table>\n",
       "</div>"
      ],
      "text/plain": [
       "             0     1     2\n",
       "21968  windows  None  None\n",
       "24765  windows  None  None\n",
       "5473   windows   mac  None\n",
       "15564  windows   mac  None\n",
       "7537   windows  None  None"
      ]
     },
     "execution_count": 13,
     "metadata": {},
     "output_type": "execute_result"
    }
   ],
   "source": [
    "platforms_df = games_df['platforms'].str.split(';', expand=True)\n",
    "platforms_df.sample(5)"
   ]
  },
  {
   "cell_type": "markdown",
   "metadata": {},
   "source": [
    "Dùng pd.Series.value_counts để tính số lượng giá trị"
   ]
  },
  {
   "cell_type": "code",
   "execution_count": 35,
   "metadata": {},
   "outputs": [
    {
     "name": "stdout",
     "output_type": "stream",
     "text": [
      "linux       5235.0\n",
      "mac         8066.0\n",
      "windows    27070.0\n",
      "dtype: float64\n"
     ]
    },
    {
     "data": {
      "text/plain": [
       "<matplotlib.axes._subplots.AxesSubplot at 0x27fa7f2d2c8>"
      ]
     },
     "execution_count": 35,
     "metadata": {},
     "output_type": "execute_result"
    },
    {
     "data": {
      "image/png": "[encoded data removed]",
      "text/plain": [
       "<Figure size 432x288 with 1 Axes>"
      ]
     },
     "metadata": {
      "needs_background": "light"
     },
     "output_type": "display_data"
    }
   ],
   "source": [
    "platforms_count = platforms_df.apply(pd.Series.value_counts).fillna(0).sum(axis=1)\n",
    "print(platforms_count)\n",
    "platforms_count.sort_values().plot.barh()"
   ]
  },
  {
   "cell_type": "markdown",
   "metadata": {},
   "source": [
    "Như vậy, với tổng số game là 27075 ở tập dữ liệu này thì:\n",
    "- Gần như tất cả game đều hỗ trợ nền tảng **window**\n",
    "- Gần 1/3 số game được phát hành trên **MAC**\n",
    "- 1/5 số game được phát hành trên **Linux**"
   ]
  },
  {
   "cell_type": "markdown",
   "metadata": {},
   "source": [
    "### Game nào có doanh thu cao nhất"
   ]
  },
  {
   "cell_type": "markdown",
   "metadata": {},
   "source": [
    "Ở đây ta sẽ tính doanh thu của các game rồi chọn ra game có doanh thu cao nhất. Tuy nhiên ở tập dữ liệu này, cột **owners** tức người sỡ hữu chỉ là ước tính, có dạng `lower_bound:upper_bound`. Giả sử số người mua là trung bình của lower và upper thì doanh thu của game sẽ là revenue = (lower + upper) / 2 * price"
   ]
  },
  {
   "cell_type": "markdown",
   "metadata": {},
   "source": [
    "Trong cột **owners** có dạng lower-upper nên em dùng regex để tách lấy 2 giá trị  \n",
    "Tính cột doanh thu"
   ]
  },
  {
   "cell_type": "code",
   "execution_count": 15,
   "metadata": {},
   "outputs": [
    {
     "data": {
      "text/html": [
       "<div>\n",
       "<style scoped>\n",
       "    .dataframe tbody tr th:only-of-type {\n",
       "        vertical-align: middle;\n",
       "    }\n",
       "\n",
       "    .dataframe tbody tr th {\n",
       "        vertical-align: top;\n",
       "    }\n",
       "\n",
       "    .dataframe thead th {\n",
       "        text-align: right;\n",
       "    }\n",
       "</style>\n",
       "<table border=\"1\" class=\"dataframe\">\n",
       "  <thead>\n",
       "    <tr style=\"text-align: right;\">\n",
       "      <th></th>\n",
       "      <th>appid</th>\n",
       "      <th>name</th>\n",
       "      <th>release_date</th>\n",
       "      <th>english</th>\n",
       "      <th>developer</th>\n",
       "      <th>publisher</th>\n",
       "      <th>platforms</th>\n",
       "      <th>required_age</th>\n",
       "      <th>categories</th>\n",
       "      <th>genres</th>\n",
       "      <th>steamspy_tags</th>\n",
       "      <th>achievements</th>\n",
       "      <th>positive_ratings</th>\n",
       "      <th>negative_ratings</th>\n",
       "      <th>average_playtime</th>\n",
       "      <th>median_playtime</th>\n",
       "      <th>owners</th>\n",
       "      <th>price</th>\n",
       "      <th>revenue</th>\n",
       "    </tr>\n",
       "  </thead>\n",
       "  <tbody>\n",
       "    <tr>\n",
       "      <td>12836</td>\n",
       "      <td>578080</td>\n",
       "      <td>PLAYERUNKNOWN'S BATTLEGROUNDS</td>\n",
       "      <td>2017-12-21</td>\n",
       "      <td>1</td>\n",
       "      <td>PUBG Corporation</td>\n",
       "      <td>PUBG Corporation</td>\n",
       "      <td>windows</td>\n",
       "      <td>0</td>\n",
       "      <td>Multi-player;Online Multi-Player;Stats</td>\n",
       "      <td>Action;Adventure;Massively Multiplayer</td>\n",
       "      <td>Survival;Shooter;Multiplayer</td>\n",
       "      <td>37</td>\n",
       "      <td>496184</td>\n",
       "      <td>487076</td>\n",
       "      <td>22938</td>\n",
       "      <td>12434</td>\n",
       "      <td>50000000-100000000</td>\n",
       "      <td>26.99</td>\n",
       "      <td>2.024250e+09</td>\n",
       "    </tr>\n",
       "  </tbody>\n",
       "</table>\n",
       "</div>"
      ],
      "text/plain": [
       "        appid                           name release_date  english  \\\n",
       "12836  578080  PLAYERUNKNOWN'S BATTLEGROUNDS   2017-12-21        1   \n",
       "\n",
       "              developer         publisher platforms  required_age  \\\n",
       "12836  PUBG Corporation  PUBG Corporation   windows             0   \n",
       "\n",
       "                                   categories  \\\n",
       "12836  Multi-player;Online Multi-Player;Stats   \n",
       "\n",
       "                                       genres                 steamspy_tags  \\\n",
       "12836  Action;Adventure;Massively Multiplayer  Survival;Shooter;Multiplayer   \n",
       "\n",
       "       achievements  positive_ratings  negative_ratings  average_playtime  \\\n",
       "12836            37            496184            487076             22938   \n",
       "\n",
       "       median_playtime              owners  price       revenue  \n",
       "12836            12434  50000000-100000000  26.99  2.024250e+09  "
      ]
     },
     "execution_count": 15,
     "metadata": {},
     "output_type": "execute_result"
    }
   ],
   "source": [
    "# tạo cột doanh thu\n",
    "games_df['revenue'] = games_df['owners']\n",
    "\n",
    "# hàm tách giá trị từ owner rồi tính trung bình\n",
    "def cal_average(owner): \n",
    "    arr = re.findall(r\"\\d+\", owner)\n",
    "    return np.mean([int(arr[0]), int(arr[1])])\n",
    "\n",
    "# apply hàm ở trên vào cột revenue ta được cột revenue có giá trị là trung bình của lower và upper trong owners\n",
    "games_df['revenue'] = games_df['revenue'].apply(cal_average)\n",
    "\n",
    "# nhân cột revenue với cột price ta được doanh thu tính theo bảng Anh\n",
    "games_df['revenue'] = games_df['revenue'] * games_df['price']\n",
    "\n",
    "# tìm dòng có revenue lớn nhất\n",
    "games_df.loc[games_df['revenue'] == max(games_df['revenue'])]"
   ]
  },
  {
   "cell_type": "code",
   "execution_count": 16,
   "metadata": {},
   "outputs": [
    {
     "data": {
      "text/plain": [
       "2024250000.0"
      ]
     },
     "execution_count": 16,
     "metadata": {},
     "output_type": "execute_result"
    }
   ],
   "source": [
    "games_df.iloc[12836, 18]"
   ]
  },
  {
   "cell_type": "markdown",
   "metadata": {},
   "source": [
    "Vậy game có doanh thu cao nhất là **PLAYERUNKNOWN'S BATTLEGROUNDS** với doanh thu khoảng $2,024,250,000$ bảng Anh"
   ]
  },
  {
   "cell_type": "markdown",
   "metadata": {},
   "source": [
    "### Game thể loại nào được chơi nhiều nhất"
   ]
  },
  {
   "cell_type": "markdown",
   "metadata": {},
   "source": [
    "Tìm ra thể loại game được nhiều người chơi nhất"
   ]
  },
  {
   "cell_type": "markdown",
   "metadata": {},
   "source": [
    "Tính tổng thời gian chơi trung bình của từng thể loại game (genres) để tìm ra thể loại được chơi nhiều nhất  "
   ]
  },
  {
   "cell_type": "markdown",
   "metadata": {},
   "source": [
    "Tạo 1 dict chứa tên thể loại và tổng thời gian chơi trung bình  \n",
    "Duyệt từng dòng để cập nhật tổng thời gian của thể loại tương ứng"
   ]
  },
  {
   "cell_type": "code",
   "execution_count": 20,
   "metadata": {},
   "outputs": [],
   "source": [
    "genres_times = {} # dict chứa tên thể loại và thời gian chơi\n",
    "for i in range(len(games_df)): # duyêt từng dòng\n",
    "    # vì genres có dạng genres1;genres2;... nên split nó ra\n",
    "    genres = games_df['genres'][i].split(';')\n",
    "    for genre in genres:\n",
    "        if genre not in genres_times:\n",
    "            genres_times[genre] = games_df['average_playtime'][i]\n",
    "        else:\n",
    "            genres_times[genre] += games_df['average_playtime'][i]\n",
    "            \n",
    "# sort giảm dần theo value\n",
    "genres_times = sorted(genres_times.items(), key = lambda item: item[1], reverse = True)"
   ]
  },
  {
   "cell_type": "code",
   "execution_count": 21,
   "metadata": {},
   "outputs": [
    {
     "data": {
      "text/plain": [
       "[('Indie', 2191390),\n",
       " ('Action', 1714230),\n",
       " ('Adventure', 1521420),\n",
       " ('RPG', 1194086),\n",
       " ('Strategy', 1013354),\n",
       " ('Free to Play', 944762),\n",
       " ('Casual', 868603),\n",
       " ('Simulation', 801127),\n",
       " ('Massively Multiplayer', 524525),\n",
       " ('Early Access', 240163),\n",
       " ('Sports', 152715),\n",
       " ('Racing', 145634),\n",
       " ('Violent', 40586),\n",
       " ('Nudity', 26593),\n",
       " ('Gore', 25587),\n",
       " ('Sexual Content', 20677),\n",
       " ('Utilities', 16434),\n",
       " ('Design & Illustration', 9764),\n",
       " ('Animation & Modeling', 6963),\n",
       " ('Photo Editing', 5155),\n",
       " ('Web Publishing', 3814),\n",
       " ('Education', 2191),\n",
       " ('Game Development', 1972),\n",
       " ('Video Production', 1025),\n",
       " ('Software Training', 302),\n",
       " ('Audio Production', 65),\n",
       " ('Accounting', 0),\n",
       " ('Documentary', 0),\n",
       " ('Tutorial', 0)]"
      ]
     },
     "execution_count": 21,
     "metadata": {},
     "output_type": "execute_result"
    }
   ],
   "source": [
    "genres_times"
   ]
  },
  {
   "cell_type": "markdown",
   "metadata": {},
   "source": [
    "Vậy, Indie là thể loại game được chơi nhiều nhất"
   ]
  },
  {
   "cell_type": "markdown",
   "metadata": {},
   "source": [
    "### Nhà phát triển game nào có nhiều thành tựu trong game nhất"
   ]
  },
  {
   "cell_type": "markdown",
   "metadata": {},
   "source": [
    "Tìm ra nhà phát triển game có nhiều thành tựu nhất trong game"
   ]
  },
  {
   "cell_type": "markdown",
   "metadata": {},
   "source": [
    "Cách xử lí tương tự câu trên"
   ]
  },
  {
   "cell_type": "code",
   "execution_count": 27,
   "metadata": {},
   "outputs": [],
   "source": [
    "achievements_count = {}\n",
    "for i in range(len(games_df['achievements'])):\n",
    "    developer = games_df.loc[i, 'developer']\n",
    "    if developer not in achievements_count:\n",
    "        achievements_count[developer] = games_df.loc[i, 'achievements']\n",
    "    else:\n",
    "        achievements_count[developer] += games_df.loc[i, 'achievements']"
   ]
  },
  {
   "cell_type": "code",
   "execution_count": 28,
   "metadata": {},
   "outputs": [
    {
     "data": {
      "text/plain": [
       "('Ripknot Systems', 190196)"
      ]
     },
     "execution_count": 28,
     "metadata": {},
     "output_type": "execute_result"
    }
   ],
   "source": [
    "# sort giảm dần theo value\n",
    "achievements_count = sorted(achievements_count.items(), key = lambda item: item[1], reverse = True)\n",
    "\n",
    "# giá trị đầu tiên trong mảng là giá trị lớn nhất\n",
    "achievements_count[0]"
   ]
  },
  {
   "cell_type": "markdown",
   "metadata": {},
   "source": [
    "Vậy nhà phát triển Ripknot Systems có nhiều thành tựu trong game nhất (190196)"
   ]
  },
  {
   "cell_type": "markdown",
   "metadata": {
    "heading_collapsed": true
   },
   "source": [
    "## 5 - NHÌN LẠI QUÁ TRÌNH THỰC HIỆN"
   ]
  },
  {
   "cell_type": "markdown",
   "metadata": {
    "heading_collapsed": true
   },
   "source": [
    "## 6 - TÀI LIỆU THAM KHẢO"
   ]
  },
  {
   "cell_type": "markdown",
   "metadata": {},
   "source": [
    "- [kaggle.com](https://www.kaggle.com/) để lấy dữ liệu\n",
    "- Thư viện [Pandas](https://pandas.pydata.org/pandas-docs/stable/index.html)\n",
    "- Các demo của thầy trong môn LTCKHDL"
   ]
  }
 ],
 "metadata": {
  "kernelspec": {
   "display_name": "Python 3",
   "language": "python",
   "name": "python3"
  },
  "language_info": {
   "codemirror_mode": {
    "name": "ipython",
    "version": 3
   },
   "file_extension": ".py",
   "mimetype": "text/x-python",
   "name": "python",
   "nbconvert_exporter": "python",
   "pygments_lexer": "ipython3",
   "version": "3.7.4"
  },
  "toc": {
   "base_numbering": 1,
   "nav_menu": {},
   "number_sections": true,
   "sideBar": true,
   "skip_h1_title": false,
   "title_cell": "Table of Contents",
   "title_sidebar": "Contents",
   "toc_cell": false,
   "toc_position": {},
   "toc_section_display": true,
   "toc_window_display": false
  }
 },
 "nbformat": 4,
 "nbformat_minor": 4
}
