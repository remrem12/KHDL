{
 "cells": [
  {
   "cell_type": "markdown",
   "metadata": {
    "slideshow": {
     "slide_type": "slide"
    }
   },
   "source": [
    "# ĐỒ ÁN CUỐI KÌ"
   ]
  },
  {
   "cell_type": "markdown",
   "metadata": {},
   "source": [
    "Bùi Hữu Nghĩa - 1712613"
   ]
  },
  {
   "cell_type": "markdown",
   "metadata": {
    "heading_collapsed": true
   },
   "source": [
    "## TỔNG QUAN"
   ]
  },
  {
   "cell_type": "markdown",
   "metadata": {
    "hidden": true
   },
   "source": [
    "Qui trình KHDL:\n",
    "- Đưa ra câu hỏi\n",
    "- Thu thập dữ liệu\n",
    "- Khám phá dữ liệu\n",
    "- Tiền xử lí\n",
    "- Phân tích, trả lời câu hỏi"
   ]
  },
  {
   "cell_type": "markdown",
   "metadata": {},
   "source": [
    "## THU THẬP DỮ LIỆU"
   ]
  },
  {
   "cell_type": "markdown",
   "metadata": {},
   "source": [
    "Ở đây em có dữ liệu là thông tin về các ứng dụng/trò chơi ở trên Steam  \n",
    "Steam là nền tảng phân phối game bản quyền trực tuyến lớn nhất hiện nay. Có thể hiểu Steam cũng như 1 trung tâm thương mại chuyên bán các trò chơi trên mạng. Ngoài Steam ra hiện nay còn nhiều nơi khác bán game bản quyền như Origin, Uplay…. Nhưng số lượng ít hơn và không phong phú như Steam.  \n",
    "\n",
    "<img src=\"https://venturebeat.com/wp-content/uploads/2019/03/STEAM.jpg?w=1200&strip=all =300x200\" alt=\"drawing\" width=\"500\"/>  \n",
    "\n",
    "Dữ liệu được lấy từ trang [kaggle.com](https://www.kaggle.com)  \n",
    "Thông tin về dữ liệu tại [đây](https://www.kaggle.com/nikdavis/steam-store-games?select=steam.csv)  \n",
    "Người sở hữu: Nik Davis  \n",
    "License: **Attribution 4.0 International (CC BY 4.0)**  \n",
    "Dữ liệu được tác giả thu thập từ SteamStore và SteamSpy APIs"
   ]
  },
  {
   "cell_type": "markdown",
   "metadata": {},
   "source": [
    "## KHÁM PHÁ DỮ LIỆU"
   ]
  },
  {
   "cell_type": "markdown",
   "metadata": {},
   "source": [
    "Trước khi đưa ra câu hỏi để trả lời thì cần phải biết dữ liệu có gì. Vì vậy, đầu tiên ta cần đọc dữ liệu"
   ]
  },
  {
   "cell_type": "code",
   "execution_count": 1,
   "metadata": {},
   "outputs": [],
   "source": [
    "import numpy as np\n",
    "import pandas as pd\n",
    "import matplotlib as plt\n",
    "import re"
   ]
  },
  {
   "cell_type": "markdown",
   "metadata": {},
   "source": [
    "Để biểu diễn trực quan dữ liệu, em dùng Dataframe của pandas"
   ]
  },
  {
   "cell_type": "markdown",
   "metadata": {},
   "source": [
    "### Đọc dữ liệu"
   ]
  },
  {
   "cell_type": "code",
   "execution_count": 2,
   "metadata": {},
   "outputs": [],
   "source": [
    "games_df = pd.read_csv('steam.csv')"
   ]
  },
  {
   "cell_type": "markdown",
   "metadata": {},
   "source": [
    "### Số dòng/cột của dữ liệu"
   ]
  },
  {
   "cell_type": "code",
   "execution_count": 3,
   "metadata": {},
   "outputs": [
    {
     "data": {
      "text/plain": [
       "(27075, 18)"
      ]
     },
     "execution_count": 3,
     "metadata": {},
     "output_type": "execute_result"
    }
   ],
   "source": [
    "games_df.shape"
   ]
  },
  {
   "cell_type": "markdown",
   "metadata": {},
   "source": [
    "Vậy dữ liệu có kích thước là **27075 dòng x 18 cột**  \n",
    "Dữ liệu lưu trữ thông tin của hơn 27 nghìn app/game, ở đây phần lớn là game nên em sẽ gọi tắt là game   "
   ]
  },
  {
   "cell_type": "markdown",
   "metadata": {},
   "source": [
    "### Ý nghĩa mỗi dòng"
   ]
  },
  {
   "cell_type": "markdown",
   "metadata": {},
   "source": [
    "Xem thử thông tin các game trông như thế nào"
   ]
  },
  {
   "cell_type": "code",
   "execution_count": 4,
   "metadata": {},
   "outputs": [
    {
     "data": {
      "text/html": [
       "<div>\n",
       "<style scoped>\n",
       "    .dataframe tbody tr th:only-of-type {\n",
       "        vertical-align: middle;\n",
       "    }\n",
       "\n",
       "    .dataframe tbody tr th {\n",
       "        vertical-align: top;\n",
       "    }\n",
       "\n",
       "    .dataframe thead th {\n",
       "        text-align: right;\n",
       "    }\n",
       "</style>\n",
       "<table border=\"1\" class=\"dataframe\">\n",
       "  <thead>\n",
       "    <tr style=\"text-align: right;\">\n",
       "      <th></th>\n",
       "      <th>appid</th>\n",
       "      <th>name</th>\n",
       "      <th>release_date</th>\n",
       "      <th>english</th>\n",
       "      <th>developer</th>\n",
       "      <th>publisher</th>\n",
       "      <th>platforms</th>\n",
       "      <th>required_age</th>\n",
       "      <th>categories</th>\n",
       "      <th>genres</th>\n",
       "      <th>steamspy_tags</th>\n",
       "      <th>achievements</th>\n",
       "      <th>positive_ratings</th>\n",
       "      <th>negative_ratings</th>\n",
       "      <th>average_playtime</th>\n",
       "      <th>median_playtime</th>\n",
       "      <th>owners</th>\n",
       "      <th>price</th>\n",
       "    </tr>\n",
       "  </thead>\n",
       "  <tbody>\n",
       "    <tr>\n",
       "      <td>0</td>\n",
       "      <td>10</td>\n",
       "      <td>Counter-Strike</td>\n",
       "      <td>2000-11-01</td>\n",
       "      <td>1</td>\n",
       "      <td>Valve</td>\n",
       "      <td>Valve</td>\n",
       "      <td>windows;mac;linux</td>\n",
       "      <td>0</td>\n",
       "      <td>Multi-player;Online Multi-Player;Local Multi-P...</td>\n",
       "      <td>Action</td>\n",
       "      <td>Action;FPS;Multiplayer</td>\n",
       "      <td>0</td>\n",
       "      <td>124534</td>\n",
       "      <td>3339</td>\n",
       "      <td>17612</td>\n",
       "      <td>317</td>\n",
       "      <td>10000000-20000000</td>\n",
       "      <td>7.19</td>\n",
       "    </tr>\n",
       "    <tr>\n",
       "      <td>1</td>\n",
       "      <td>20</td>\n",
       "      <td>Team Fortress Classic</td>\n",
       "      <td>1999-04-01</td>\n",
       "      <td>1</td>\n",
       "      <td>Valve</td>\n",
       "      <td>Valve</td>\n",
       "      <td>windows;mac;linux</td>\n",
       "      <td>0</td>\n",
       "      <td>Multi-player;Online Multi-Player;Local Multi-P...</td>\n",
       "      <td>Action</td>\n",
       "      <td>Action;FPS;Multiplayer</td>\n",
       "      <td>0</td>\n",
       "      <td>3318</td>\n",
       "      <td>633</td>\n",
       "      <td>277</td>\n",
       "      <td>62</td>\n",
       "      <td>5000000-10000000</td>\n",
       "      <td>3.99</td>\n",
       "    </tr>\n",
       "  </tbody>\n",
       "</table>\n",
       "</div>"
      ],
      "text/plain": [
       "   appid                   name release_date  english developer publisher  \\\n",
       "0     10         Counter-Strike   2000-11-01        1     Valve     Valve   \n",
       "1     20  Team Fortress Classic   1999-04-01        1     Valve     Valve   \n",
       "\n",
       "           platforms  required_age  \\\n",
       "0  windows;mac;linux             0   \n",
       "1  windows;mac;linux             0   \n",
       "\n",
       "                                          categories  genres  \\\n",
       "0  Multi-player;Online Multi-Player;Local Multi-P...  Action   \n",
       "1  Multi-player;Online Multi-Player;Local Multi-P...  Action   \n",
       "\n",
       "            steamspy_tags  achievements  positive_ratings  negative_ratings  \\\n",
       "0  Action;FPS;Multiplayer             0            124534              3339   \n",
       "1  Action;FPS;Multiplayer             0              3318               633   \n",
       "\n",
       "   average_playtime  median_playtime             owners  price  \n",
       "0             17612              317  10000000-20000000   7.19  \n",
       "1               277               62   5000000-10000000   3.99  "
      ]
     },
     "execution_count": 4,
     "metadata": {},
     "output_type": "execute_result"
    }
   ],
   "source": [
    "games_df.head(2)"
   ]
  },
  {
   "cell_type": "markdown",
   "metadata": {},
   "source": [
    "Như đã thấy thì mỗi dòng là thông tin của một game"
   ]
  },
  {
   "cell_type": "markdown",
   "metadata": {},
   "source": [
    "### Thông tin về các cột như sau:  \n",
    "- **appid**  : là id của ứng dụng\n",
    "- **name**: tên game\n",
    "- **release_date**: ngày phát hành\n",
    "- **english**: ngôn ngữ hỗ trợ, 1 nếu là tiếng anh\n",
    "- **developer**: nhà phát triển\n",
    "- **publisher**: nhà phát hành\n",
    "- **platforms**: nền tảng(game hỗ trợ nền tảng nào, như Window, MAC, Linux)\n",
    "- **required_age**: độ tuổi yêu cầu\n",
    "- **categories**: loại trò chơi(yêu cầu) như chơi một hay nhiều người, đa nền tảng,... \n",
    "- **genres**: thể loại trò chơi(nội dung) như hành động, chiến thuật,...\n",
    "- **steamspy_tags**: giống như **genres**\n",
    "- **achievements**: thành tựu trong game(nếu có)\n",
    "- **positive_ratings/negative_ratings**: rating của game\n",
    "- **average_playtime**: thời gian chơi trung bình\n",
    "- **median_playtime**: trung vị thời gian chơi\n",
    "- **owners**: số người sở hữu\n",
    "- **price**: giá game (tính theo bảng Anh, British Pound Sterling - GBP)"
   ]
  },
  {
   "cell_type": "markdown",
   "metadata": {},
   "source": [
    "Xem thử kiểu dữ liệu của các cột dữ liệu"
   ]
  },
  {
   "cell_type": "code",
   "execution_count": 5,
   "metadata": {},
   "outputs": [
    {
     "data": {
      "text/plain": [
       "appid                 int64\n",
       "name                 object\n",
       "release_date         object\n",
       "english               int64\n",
       "developer            object\n",
       "publisher            object\n",
       "platforms            object\n",
       "required_age          int64\n",
       "categories           object\n",
       "genres               object\n",
       "steamspy_tags        object\n",
       "achievements          int64\n",
       "positive_ratings      int64\n",
       "negative_ratings      int64\n",
       "average_playtime      int64\n",
       "median_playtime       int64\n",
       "owners               object\n",
       "price               float64\n",
       "dtype: object"
      ]
     },
     "execution_count": 5,
     "metadata": {},
     "output_type": "execute_result"
    }
   ],
   "source": [
    "games_df.dtypes"
   ]
  },
  {
   "cell_type": "markdown",
   "metadata": {},
   "source": [
    "### Chuyển kiểu dữ liệu\n",
    "Như trên thì hầu hết các cột đều có kiểu dữ liệu phù hợp trừ cột **release_date(ngày phát hành)**. Việc tiếp theo cần làm là chuyển kiểu dữ liệu của **release_date** từ **object** sang **datetime**"
   ]
  },
  {
   "cell_type": "code",
   "execution_count": 6,
   "metadata": {},
   "outputs": [],
   "source": [
    "games_df['release_date'] = pd.to_datetime(games_df['release_date'], format=\"%Y-%m-%d\")"
   ]
  },
  {
   "cell_type": "markdown",
   "metadata": {},
   "source": [
    "Kiểm tra lại cột release_date đã đổi kiểu dữ liệu chưa"
   ]
  },
  {
   "cell_type": "code",
   "execution_count": 7,
   "metadata": {},
   "outputs": [
    {
     "data": {
      "text/plain": [
       "appid                        int64\n",
       "name                        object\n",
       "release_date        datetime64[ns]\n",
       "english                      int64\n",
       "developer                   object\n",
       "publisher                   object\n",
       "platforms                   object\n",
       "required_age                 int64\n",
       "categories                  object\n",
       "genres                      object\n",
       "steamspy_tags               object\n",
       "achievements                 int64\n",
       "positive_ratings             int64\n",
       "negative_ratings             int64\n",
       "average_playtime             int64\n",
       "median_playtime              int64\n",
       "owners                      object\n",
       "price                      float64\n",
       "dtype: object"
      ]
     },
     "execution_count": 7,
     "metadata": {},
     "output_type": "execute_result"
    }
   ],
   "source": [
    "games_df.dtypes"
   ]
  },
  {
   "cell_type": "markdown",
   "metadata": {},
   "source": [
    "Vậy là ta đã đổi kiểu dữ liệu thành công, có thể thao tác tới cột release_date.  \n",
    "### Miền giá trị các cột dạng numeric/datetime\n",
    "Bây giờ ta cần tính miền giá trị của các cột dữ liệu có dạng **numeric** hoặc **datetime** như: **appid, release_date, required_age, achievement, positive_ratings, negative_ratings, average_playtime, median_playtime, price**  \n",
    "Xem mô tả về giá trị các cột"
   ]
  },
  {
   "cell_type": "code",
   "execution_count": 8,
   "metadata": {},
   "outputs": [
    {
     "data": {
      "text/html": [
       "<div>\n",
       "<style scoped>\n",
       "    .dataframe tbody tr th:only-of-type {\n",
       "        vertical-align: middle;\n",
       "    }\n",
       "\n",
       "    .dataframe tbody tr th {\n",
       "        vertical-align: top;\n",
       "    }\n",
       "\n",
       "    .dataframe thead th {\n",
       "        text-align: right;\n",
       "    }\n",
       "</style>\n",
       "<table border=\"1\" class=\"dataframe\">\n",
       "  <thead>\n",
       "    <tr style=\"text-align: right;\">\n",
       "      <th></th>\n",
       "      <th>appid</th>\n",
       "      <th>english</th>\n",
       "      <th>required_age</th>\n",
       "      <th>achievements</th>\n",
       "      <th>positive_ratings</th>\n",
       "      <th>negative_ratings</th>\n",
       "      <th>average_playtime</th>\n",
       "      <th>median_playtime</th>\n",
       "      <th>price</th>\n",
       "    </tr>\n",
       "  </thead>\n",
       "  <tbody>\n",
       "    <tr>\n",
       "      <td>count</td>\n",
       "      <td>2.707500e+04</td>\n",
       "      <td>27075.000000</td>\n",
       "      <td>27075.000000</td>\n",
       "      <td>27075.000000</td>\n",
       "      <td>2.707500e+04</td>\n",
       "      <td>27075.000000</td>\n",
       "      <td>27075.000000</td>\n",
       "      <td>27075.00000</td>\n",
       "      <td>27075.000000</td>\n",
       "    </tr>\n",
       "    <tr>\n",
       "      <td>mean</td>\n",
       "      <td>5.962035e+05</td>\n",
       "      <td>0.981127</td>\n",
       "      <td>0.354903</td>\n",
       "      <td>45.248864</td>\n",
       "      <td>1.000559e+03</td>\n",
       "      <td>211.027147</td>\n",
       "      <td>149.804949</td>\n",
       "      <td>146.05603</td>\n",
       "      <td>6.078193</td>\n",
       "    </tr>\n",
       "    <tr>\n",
       "      <td>std</td>\n",
       "      <td>2.508942e+05</td>\n",
       "      <td>0.136081</td>\n",
       "      <td>2.406044</td>\n",
       "      <td>352.670281</td>\n",
       "      <td>1.898872e+04</td>\n",
       "      <td>4284.938531</td>\n",
       "      <td>1827.038141</td>\n",
       "      <td>2353.88008</td>\n",
       "      <td>7.874922</td>\n",
       "    </tr>\n",
       "    <tr>\n",
       "      <td>min</td>\n",
       "      <td>1.000000e+01</td>\n",
       "      <td>0.000000</td>\n",
       "      <td>0.000000</td>\n",
       "      <td>0.000000</td>\n",
       "      <td>0.000000e+00</td>\n",
       "      <td>0.000000</td>\n",
       "      <td>0.000000</td>\n",
       "      <td>0.00000</td>\n",
       "      <td>0.000000</td>\n",
       "    </tr>\n",
       "    <tr>\n",
       "      <td>25%</td>\n",
       "      <td>4.012300e+05</td>\n",
       "      <td>1.000000</td>\n",
       "      <td>0.000000</td>\n",
       "      <td>0.000000</td>\n",
       "      <td>6.000000e+00</td>\n",
       "      <td>2.000000</td>\n",
       "      <td>0.000000</td>\n",
       "      <td>0.00000</td>\n",
       "      <td>1.690000</td>\n",
       "    </tr>\n",
       "    <tr>\n",
       "      <td>50%</td>\n",
       "      <td>5.990700e+05</td>\n",
       "      <td>1.000000</td>\n",
       "      <td>0.000000</td>\n",
       "      <td>7.000000</td>\n",
       "      <td>2.400000e+01</td>\n",
       "      <td>9.000000</td>\n",
       "      <td>0.000000</td>\n",
       "      <td>0.00000</td>\n",
       "      <td>3.990000</td>\n",
       "    </tr>\n",
       "    <tr>\n",
       "      <td>75%</td>\n",
       "      <td>7.987600e+05</td>\n",
       "      <td>1.000000</td>\n",
       "      <td>0.000000</td>\n",
       "      <td>23.000000</td>\n",
       "      <td>1.260000e+02</td>\n",
       "      <td>42.000000</td>\n",
       "      <td>0.000000</td>\n",
       "      <td>0.00000</td>\n",
       "      <td>7.190000</td>\n",
       "    </tr>\n",
       "    <tr>\n",
       "      <td>max</td>\n",
       "      <td>1.069460e+06</td>\n",
       "      <td>1.000000</td>\n",
       "      <td>18.000000</td>\n",
       "      <td>9821.000000</td>\n",
       "      <td>2.644404e+06</td>\n",
       "      <td>487076.000000</td>\n",
       "      <td>190625.000000</td>\n",
       "      <td>190625.00000</td>\n",
       "      <td>421.990000</td>\n",
       "    </tr>\n",
       "  </tbody>\n",
       "</table>\n",
       "</div>"
      ],
      "text/plain": [
       "              appid       english  required_age  achievements  \\\n",
       "count  2.707500e+04  27075.000000  27075.000000  27075.000000   \n",
       "mean   5.962035e+05      0.981127      0.354903     45.248864   \n",
       "std    2.508942e+05      0.136081      2.406044    352.670281   \n",
       "min    1.000000e+01      0.000000      0.000000      0.000000   \n",
       "25%    4.012300e+05      1.000000      0.000000      0.000000   \n",
       "50%    5.990700e+05      1.000000      0.000000      7.000000   \n",
       "75%    7.987600e+05      1.000000      0.000000     23.000000   \n",
       "max    1.069460e+06      1.000000     18.000000   9821.000000   \n",
       "\n",
       "       positive_ratings  negative_ratings  average_playtime  median_playtime  \\\n",
       "count      2.707500e+04      27075.000000      27075.000000      27075.00000   \n",
       "mean       1.000559e+03        211.027147        149.804949        146.05603   \n",
       "std        1.898872e+04       4284.938531       1827.038141       2353.88008   \n",
       "min        0.000000e+00          0.000000          0.000000          0.00000   \n",
       "25%        6.000000e+00          2.000000          0.000000          0.00000   \n",
       "50%        2.400000e+01          9.000000          0.000000          0.00000   \n",
       "75%        1.260000e+02         42.000000          0.000000          0.00000   \n",
       "max        2.644404e+06     487076.000000     190625.000000     190625.00000   \n",
       "\n",
       "              price  \n",
       "count  27075.000000  \n",
       "mean       6.078193  \n",
       "std        7.874922  \n",
       "min        0.000000  \n",
       "25%        1.690000  \n",
       "50%        3.990000  \n",
       "75%        7.190000  \n",
       "max      421.990000  "
      ]
     },
     "execution_count": 8,
     "metadata": {},
     "output_type": "execute_result"
    }
   ],
   "source": [
    "games_df.describe()"
   ]
  },
  {
   "cell_type": "markdown",
   "metadata": {},
   "source": [
    "Lọc lại, chỉ lấy dòng min và max ta được miền giá trị"
   ]
  },
  {
   "cell_type": "code",
   "execution_count": 24,
   "metadata": {},
   "outputs": [
    {
     "data": {
      "text/html": [
       "<div>\n",
       "<style scoped>\n",
       "    .dataframe tbody tr th:only-of-type {\n",
       "        vertical-align: middle;\n",
       "    }\n",
       "\n",
       "    .dataframe tbody tr th {\n",
       "        vertical-align: top;\n",
       "    }\n",
       "\n",
       "    .dataframe thead th {\n",
       "        text-align: right;\n",
       "    }\n",
       "</style>\n",
       "<table border=\"1\" class=\"dataframe\">\n",
       "  <thead>\n",
       "    <tr style=\"text-align: right;\">\n",
       "      <th></th>\n",
       "      <th>appid</th>\n",
       "      <th>english</th>\n",
       "      <th>required_age</th>\n",
       "      <th>achievements</th>\n",
       "      <th>positive_ratings</th>\n",
       "      <th>negative_ratings</th>\n",
       "      <th>average_playtime</th>\n",
       "      <th>median_playtime</th>\n",
       "      <th>price</th>\n",
       "      <th>revenue</th>\n",
       "    </tr>\n",
       "  </thead>\n",
       "  <tbody>\n",
       "    <tr>\n",
       "      <td>min</td>\n",
       "      <td>10.0</td>\n",
       "      <td>0.0</td>\n",
       "      <td>0.0</td>\n",
       "      <td>0.0</td>\n",
       "      <td>0.0</td>\n",
       "      <td>0.0</td>\n",
       "      <td>0.0</td>\n",
       "      <td>0.0</td>\n",
       "      <td>0.00</td>\n",
       "      <td>0.000000e+00</td>\n",
       "    </tr>\n",
       "    <tr>\n",
       "      <td>max</td>\n",
       "      <td>1069460.0</td>\n",
       "      <td>1.0</td>\n",
       "      <td>18.0</td>\n",
       "      <td>9821.0</td>\n",
       "      <td>2644404.0</td>\n",
       "      <td>487076.0</td>\n",
       "      <td>190625.0</td>\n",
       "      <td>190625.0</td>\n",
       "      <td>421.99</td>\n",
       "      <td>2.024250e+09</td>\n",
       "    </tr>\n",
       "  </tbody>\n",
       "</table>\n",
       "</div>"
      ],
      "text/plain": [
       "         appid  english  required_age  achievements  positive_ratings  \\\n",
       "min       10.0      0.0           0.0           0.0               0.0   \n",
       "max  1069460.0      1.0          18.0        9821.0         2644404.0   \n",
       "\n",
       "     negative_ratings  average_playtime  median_playtime   price       revenue  \n",
       "min               0.0               0.0              0.0    0.00  0.000000e+00  \n",
       "max          487076.0          190625.0         190625.0  421.99  2.024250e+09  "
      ]
     },
     "execution_count": 24,
     "metadata": {},
     "output_type": "execute_result"
    }
   ],
   "source": [
    "value_field = games_df.describe().filter(items=['min', 'max'], axis=0)\n",
    "value_field"
   ]
  },
  {
   "cell_type": "markdown",
   "metadata": {},
   "source": [
    "### Các giá trị có thể có của các cột dữ liệu có dạng **categorical**\n",
    "Các cột có dạng categorical gồm: **platforms, categories, genres, steamspy_tags**"
   ]
  },
  {
   "cell_type": "code",
   "execution_count": 46,
   "metadata": {},
   "outputs": [
    {
     "data": {
      "text/html": [
       "<div>\n",
       "<style scoped>\n",
       "    .dataframe tbody tr th:only-of-type {\n",
       "        vertical-align: middle;\n",
       "    }\n",
       "\n",
       "    .dataframe tbody tr th {\n",
       "        vertical-align: top;\n",
       "    }\n",
       "\n",
       "    .dataframe thead th {\n",
       "        text-align: right;\n",
       "    }\n",
       "</style>\n",
       "<table border=\"1\" class=\"dataframe\">\n",
       "  <thead>\n",
       "    <tr style=\"text-align: right;\">\n",
       "      <th></th>\n",
       "      <th>appid</th>\n",
       "      <th>name</th>\n",
       "      <th>release_date</th>\n",
       "      <th>english</th>\n",
       "      <th>developer</th>\n",
       "      <th>publisher</th>\n",
       "      <th>platforms</th>\n",
       "      <th>required_age</th>\n",
       "      <th>categories</th>\n",
       "      <th>genres</th>\n",
       "      <th>steamspy_tags</th>\n",
       "      <th>achievements</th>\n",
       "      <th>positive_ratings</th>\n",
       "      <th>negative_ratings</th>\n",
       "      <th>average_playtime</th>\n",
       "      <th>median_playtime</th>\n",
       "      <th>owners</th>\n",
       "      <th>price</th>\n",
       "      <th>revenue</th>\n",
       "    </tr>\n",
       "  </thead>\n",
       "  <tbody>\n",
       "    <tr>\n",
       "      <td>0</td>\n",
       "      <td>10</td>\n",
       "      <td>Counter-Strike</td>\n",
       "      <td>2000-11-01</td>\n",
       "      <td>1</td>\n",
       "      <td>Valve</td>\n",
       "      <td>Valve</td>\n",
       "      <td>windows;mac;linux</td>\n",
       "      <td>0</td>\n",
       "      <td>Multi-player;Online Multi-Player;Local Multi-P...</td>\n",
       "      <td>Action</td>\n",
       "      <td>Action;FPS;Multiplayer</td>\n",
       "      <td>0</td>\n",
       "      <td>124534</td>\n",
       "      <td>3339</td>\n",
       "      <td>17612</td>\n",
       "      <td>317</td>\n",
       "      <td>10000000-20000000</td>\n",
       "      <td>7.19</td>\n",
       "      <td>107850000.0</td>\n",
       "    </tr>\n",
       "  </tbody>\n",
       "</table>\n",
       "</div>"
      ],
      "text/plain": [
       "   appid            name release_date  english developer publisher  \\\n",
       "0     10  Counter-Strike   2000-11-01        1     Valve     Valve   \n",
       "\n",
       "           platforms  required_age  \\\n",
       "0  windows;mac;linux             0   \n",
       "\n",
       "                                          categories  genres  \\\n",
       "0  Multi-player;Online Multi-Player;Local Multi-P...  Action   \n",
       "\n",
       "            steamspy_tags  achievements  positive_ratings  negative_ratings  \\\n",
       "0  Action;FPS;Multiplayer             0            124534              3339   \n",
       "\n",
       "   average_playtime  median_playtime             owners  price      revenue  \n",
       "0             17612              317  10000000-20000000   7.19  107850000.0  "
      ]
     },
     "execution_count": 46,
     "metadata": {},
     "output_type": "execute_result"
    }
   ],
   "source": [
    "games_df.head(1)"
   ]
  },
  {
   "cell_type": "markdown",
   "metadata": {},
   "source": [
    "Nhìn qua thì thấy các cột này giá trị có dạng `val1;val2;...`, phân cách với nhau bởi `;`  \n",
    "Em dùng hàm split để tách các giá trị"
   ]
  },
  {
   "cell_type": "code",
   "execution_count": 40,
   "metadata": {},
   "outputs": [],
   "source": [
    "# hàm tìm giá trị categories\n",
    "def categorical_val(col):\n",
    "    # từ cột dữ liệu, tạo 1 DataFrame dựa trên các dữ liệu có dạng categorical trong đó\n",
    "    val = games_df[col].str.split(';', expand=True)\n",
    "    # dùng apply để dùng hàm value_counts của Series cho dataframe vừa tạo\n",
    "    s = val.apply(pd.Series.value_counts).fillna(0).sum(axis=1)\n",
    "    # trả về mảng các cate\n",
    "    return list(s.index)"
   ]
  },
  {
   "cell_type": "markdown",
   "metadata": {},
   "source": [
    "Tạo 1 dataframe để hiển thị dữ liệu từ các mảng categories"
   ]
  },
  {
   "cell_type": "code",
   "execution_count": 36,
   "metadata": {},
   "outputs": [
    {
     "data": {
      "text/html": [
       "<div>\n",
       "<style scoped>\n",
       "    .dataframe tbody tr th:only-of-type {\n",
       "        vertical-align: middle;\n",
       "    }\n",
       "\n",
       "    .dataframe tbody tr th {\n",
       "        vertical-align: top;\n",
       "    }\n",
       "\n",
       "    .dataframe thead th {\n",
       "        text-align: right;\n",
       "    }\n",
       "</style>\n",
       "<table border=\"1\" class=\"dataframe\">\n",
       "  <thead>\n",
       "    <tr style=\"text-align: right;\">\n",
       "      <th></th>\n",
       "      <th>platforms</th>\n",
       "      <th>categories</th>\n",
       "      <th>genres</th>\n",
       "      <th>steamspy_tags</th>\n",
       "    </tr>\n",
       "  </thead>\n",
       "  <tbody>\n",
       "    <tr>\n",
       "      <td>0</td>\n",
       "      <td>linux</td>\n",
       "      <td>Captions available</td>\n",
       "      <td>Accounting</td>\n",
       "      <td>1980s</td>\n",
       "    </tr>\n",
       "    <tr>\n",
       "      <td>1</td>\n",
       "      <td>mac</td>\n",
       "      <td>Co-op</td>\n",
       "      <td>Action</td>\n",
       "      <td>1990's</td>\n",
       "    </tr>\n",
       "    <tr>\n",
       "      <td>2</td>\n",
       "      <td>windows</td>\n",
       "      <td>Commentary available</td>\n",
       "      <td>Adventure</td>\n",
       "      <td>2.5D</td>\n",
       "    </tr>\n",
       "    <tr>\n",
       "      <td>3</td>\n",
       "      <td>0</td>\n",
       "      <td>Cross-Platform Multiplayer</td>\n",
       "      <td>Animation &amp; Modeling</td>\n",
       "      <td>2D</td>\n",
       "    </tr>\n",
       "    <tr>\n",
       "      <td>4</td>\n",
       "      <td>0</td>\n",
       "      <td>Full controller support</td>\n",
       "      <td>Audio Production</td>\n",
       "      <td>2D Fighter</td>\n",
       "    </tr>\n",
       "    <tr>\n",
       "      <td>...</td>\n",
       "      <td>...</td>\n",
       "      <td>...</td>\n",
       "      <td>...</td>\n",
       "      <td>...</td>\n",
       "    </tr>\n",
       "    <tr>\n",
       "      <td>334</td>\n",
       "      <td>0</td>\n",
       "      <td>0</td>\n",
       "      <td>0</td>\n",
       "      <td>World War I</td>\n",
       "    </tr>\n",
       "    <tr>\n",
       "      <td>335</td>\n",
       "      <td>0</td>\n",
       "      <td>0</td>\n",
       "      <td>0</td>\n",
       "      <td>World War II</td>\n",
       "    </tr>\n",
       "    <tr>\n",
       "      <td>336</td>\n",
       "      <td>0</td>\n",
       "      <td>0</td>\n",
       "      <td>0</td>\n",
       "      <td>Wrestling</td>\n",
       "    </tr>\n",
       "    <tr>\n",
       "      <td>337</td>\n",
       "      <td>0</td>\n",
       "      <td>0</td>\n",
       "      <td>0</td>\n",
       "      <td>Zombies</td>\n",
       "    </tr>\n",
       "    <tr>\n",
       "      <td>338</td>\n",
       "      <td>0</td>\n",
       "      <td>0</td>\n",
       "      <td>0</td>\n",
       "      <td>e-sports</td>\n",
       "    </tr>\n",
       "  </tbody>\n",
       "</table>\n",
       "<p>339 rows × 4 columns</p>\n",
       "</div>"
      ],
      "text/plain": [
       "    platforms                  categories                genres steamspy_tags\n",
       "0       linux          Captions available            Accounting         1980s\n",
       "1         mac                       Co-op                Action        1990's\n",
       "2     windows        Commentary available             Adventure          2.5D\n",
       "3           0  Cross-Platform Multiplayer  Animation & Modeling            2D\n",
       "4           0     Full controller support      Audio Production    2D Fighter\n",
       "..        ...                         ...                   ...           ...\n",
       "334         0                           0                     0   World War I\n",
       "335         0                           0                     0  World War II\n",
       "336         0                           0                     0     Wrestling\n",
       "337         0                           0                     0       Zombies\n",
       "338         0                           0                     0      e-sports\n",
       "\n",
       "[339 rows x 4 columns]"
      ]
     },
     "execution_count": 36,
     "metadata": {},
     "output_type": "execute_result"
    }
   ],
   "source": [
    "cate_dict = {\n",
    "    'platforms': categorical_val('platforms'),\n",
    "    'categories': categorical_val('categories'),\n",
    "    'genres': categorical_val('genres'),\n",
    "    'steamspy_tags': categorical_val('steamspy_tags'),\n",
    "}\n",
    "cate_df = pd.DataFrame(dict([ (k,pd.Series(v)) for k,v in cate_dict.items() ]))\n",
    "cate_df.fillna(0)"
   ]
  },
  {
   "cell_type": "markdown",
   "metadata": {},
   "source": [
    "### Kiểm tra dữ liệu"
   ]
  },
  {
   "cell_type": "code",
   "execution_count": 41,
   "metadata": {},
   "outputs": [
    {
     "name": "stdout",
     "output_type": "stream",
     "text": [
      "<class 'pandas.core.frame.DataFrame'>\n",
      "RangeIndex: 27075 entries, 0 to 27074\n",
      "Data columns (total 19 columns):\n",
      "appid               27075 non-null int64\n",
      "name                27075 non-null object\n",
      "release_date        27075 non-null datetime64[ns]\n",
      "english             27075 non-null int64\n",
      "developer           27075 non-null object\n",
      "publisher           27075 non-null object\n",
      "platforms           27075 non-null object\n",
      "required_age        27075 non-null int64\n",
      "categories          27075 non-null object\n",
      "genres              27075 non-null object\n",
      "steamspy_tags       27075 non-null object\n",
      "achievements        27075 non-null int64\n",
      "positive_ratings    27075 non-null int64\n",
      "negative_ratings    27075 non-null int64\n",
      "average_playtime    27075 non-null int64\n",
      "median_playtime     27075 non-null int64\n",
      "owners              27075 non-null object\n",
      "price               27075 non-null float64\n",
      "revenue             27075 non-null float64\n",
      "dtypes: datetime64[ns](1), float64(2), int64(8), object(8)\n",
      "memory usage: 3.9+ MB\n"
     ]
    }
   ],
   "source": [
    "games_df.info()"
   ]
  },
  {
   "cell_type": "markdown",
   "metadata": {},
   "source": [
    "Như trên thì các cột không có giá trị thiếu  \n",
    "<p style='color: blue'>Vậy, nhìn chung thì dữ liệu khá tốt nên không phải xử lí quá nhiều</p>"
   ]
  },
  {
   "cell_type": "markdown",
   "metadata": {},
   "source": [
    "## CÁC CÂU HỎI CẦN ĐƯỢC TRẢ LỜI TỪ DỮ LIỆU"
   ]
  },
  {
   "cell_type": "markdown",
   "metadata": {},
   "source": [
    "Ở đây em đưa ra một số câu hỏi mà mình hứng thú, muốn biết từ dữ liệu này như sau:\n",
    "- **<span style='color: blue'>So sánh các nền tảng phát hành game</span>**: câu hỏi này cho ta cái nhìn tổng quát về số lượng game được phát hành trên các hệ điều hành window/mac/linux\n",
    "- **<span style='color: blue'>Game nào có doanh thu cao nhất</span>**: Tìm ra tựa game mang lại nhiều doanh thu nhất trên steam store\n",
    "- **<span style='color: blue'>Game thể loại nào được chơi nhiều nhất</span>**: Trả lời được câu hỏi này, ta sẽ đánh giá được phần nào thị hiếu của người chơi thông qua các trò chơi\n",
    "- **<span style='color: blue'>Nhà phát hành game nào có nhiều thành tựu trong game nhất</span>**: Tìm ra nhà phát hành game có nhiều thành tích nhất đạt được trong các game đã phát hành"
   ]
  },
  {
   "cell_type": "markdown",
   "metadata": {},
   "source": [
    "## TRẢ LỜI CÂU HỎI"
   ]
  },
  {
   "cell_type": "markdown",
   "metadata": {},
   "source": [
    "### So sánh các nền tảng phát hành game"
   ]
  },
  {
   "cell_type": "markdown",
   "metadata": {},
   "source": [
    "So sánh thị phần các nền tảng hệ điều hành mà game được phát hành để biết nền tảng nào được phát hành nhiều game nhất, tương quan giữa các nền tảng với nhau"
   ]
  },
  {
   "cell_type": "markdown",
   "metadata": {},
   "source": [
    "Tạo 1 DataFrame từ cột platforms đã split"
   ]
  },
  {
   "cell_type": "code",
   "execution_count": 13,
   "metadata": {},
   "outputs": [
    {
     "data": {
      "text/html": [
       "<div>\n",
       "<style scoped>\n",
       "    .dataframe tbody tr th:only-of-type {\n",
       "        vertical-align: middle;\n",
       "    }\n",
       "\n",
       "    .dataframe tbody tr th {\n",
       "        vertical-align: top;\n",
       "    }\n",
       "\n",
       "    .dataframe thead th {\n",
       "        text-align: right;\n",
       "    }\n",
       "</style>\n",
       "<table border=\"1\" class=\"dataframe\">\n",
       "  <thead>\n",
       "    <tr style=\"text-align: right;\">\n",
       "      <th></th>\n",
       "      <th>0</th>\n",
       "      <th>1</th>\n",
       "      <th>2</th>\n",
       "    </tr>\n",
       "  </thead>\n",
       "  <tbody>\n",
       "    <tr>\n",
       "      <td>3179</td>\n",
       "      <td>windows</td>\n",
       "      <td>mac</td>\n",
       "      <td>linux</td>\n",
       "    </tr>\n",
       "    <tr>\n",
       "      <td>6248</td>\n",
       "      <td>windows</td>\n",
       "      <td>None</td>\n",
       "      <td>None</td>\n",
       "    </tr>\n",
       "    <tr>\n",
       "      <td>2675</td>\n",
       "      <td>windows</td>\n",
       "      <td>None</td>\n",
       "      <td>None</td>\n",
       "    </tr>\n",
       "    <tr>\n",
       "      <td>12864</td>\n",
       "      <td>windows</td>\n",
       "      <td>None</td>\n",
       "      <td>None</td>\n",
       "    </tr>\n",
       "    <tr>\n",
       "      <td>22550</td>\n",
       "      <td>windows</td>\n",
       "      <td>None</td>\n",
       "      <td>None</td>\n",
       "    </tr>\n",
       "  </tbody>\n",
       "</table>\n",
       "</div>"
      ],
      "text/plain": [
       "             0     1      2\n",
       "3179   windows   mac  linux\n",
       "6248   windows  None   None\n",
       "2675   windows  None   None\n",
       "12864  windows  None   None\n",
       "22550  windows  None   None"
      ]
     },
     "execution_count": 13,
     "metadata": {},
     "output_type": "execute_result"
    }
   ],
   "source": [
    "platforms_df = games_df['platforms'].str.split(';', expand=True)\n",
    "platforms_df.sample(5)"
   ]
  },
  {
   "cell_type": "markdown",
   "metadata": {},
   "source": [
    "Dùng pd.Series.value_counts để tính số lượng giá trị"
   ]
  },
  {
   "cell_type": "code",
   "execution_count": 50,
   "metadata": {},
   "outputs": [
    {
     "name": "stdout",
     "output_type": "stream",
     "text": [
      "linux       5235.0\n",
      "mac         8066.0\n",
      "windows    27070.0\n",
      "dtype: float64\n"
     ]
    },
    {
     "data": {
      "text/plain": [
       "<matplotlib.axes._subplots.AxesSubplot at 0x21efab028c8>"
      ]
     },
     "execution_count": 50,
     "metadata": {},
     "output_type": "execute_result"
    },
    {
     "data": {
      "image/png": "[encoded data removed]",
      "text/plain": [
       "<Figure size 432x288 with 1 Axes>"
      ]
     },
     "metadata": {
      "needs_background": "light"
     },
     "output_type": "display_data"
    }
   ],
   "source": [
    "platforms_count = platforms_df.apply(pd.Series.value_counts).fillna(0).sum(axis=1)\n",
    "print(platforms_count)\n",
    "platforms_count.sort_values().plot.barh()"
   ]
  },
  {
   "cell_type": "markdown",
   "metadata": {},
   "source": [
    "Như vậy, với tổng số game là 27075 ở tập dữ liệu này thì:\n",
    "- Gần như tất cả game đều hỗ trợ nền tảng **window**\n",
    "- Gần 1/3 số game được phát hành trên **MAC**\n",
    "- 1/5 số game được phát hành trên **Linux**"
   ]
  },
  {
   "cell_type": "markdown",
   "metadata": {},
   "source": [
    "Qua trên thì có thể thấy được window là hệ điều hành để chơi game vì có thể cài gần như bất cứ game nào trên steam.  \n",
    "Bên cạnh đó, trên MAC thì tuy số lượng game được phát hành trên nền tảng này không nhiều như window nhưng ai bảo MAC chơi game không được nào?"
   ]
  },
  {
   "cell_type": "markdown",
   "metadata": {},
   "source": [
    "### Game nào có doanh thu cao nhất"
   ]
  },
  {
   "cell_type": "markdown",
   "metadata": {},
   "source": [
    "Ở đây ta sẽ tính doanh thu của từng game rồi chọn ra game có doanh thu cao nhất.  \n",
    "Tuy nhiên ở tập dữ liệu này, cột **owners** tức người sỡ hữu chỉ là ước tính, có dạng `lower_bound:upper_bound`. Nghĩa là, số người mua sẽ dao động trong khoảng **lớn hơn lower và nhỏ hơn upper**. Giả sử số người mua là trung bình của lower và upper thì doanh thu của game sẽ là: $$revenue = (lower + upper) / 2 * price$$"
   ]
  },
  {
   "cell_type": "markdown",
   "metadata": {},
   "source": [
    "**Các bước thực hiện:**\n",
    "- Tạo cột doanh thu\n",
    "- Viết hàm tính trung bình, trong cột **owners** có dạng lower-upper nên em dùng split để tách ra rồi tính trung bình từ đó\n",
    "- apply hàm tính trung bình vào cột doanh thu (revenue), lúc này ta được cột doanh thu là số người mua trung bình\n",
    "- Nhân cột doanh thu với cột price ta sẽ được doanh thu\n",
    "- Tìm hàng nào có doanh thu cao nhất, đó là game có doanh thu cao nhất"
   ]
  },
  {
   "cell_type": "code",
   "execution_count": 43,
   "metadata": {},
   "outputs": [
    {
     "data": {
      "text/html": [
       "<div>\n",
       "<style scoped>\n",
       "    .dataframe tbody tr th:only-of-type {\n",
       "        vertical-align: middle;\n",
       "    }\n",
       "\n",
       "    .dataframe tbody tr th {\n",
       "        vertical-align: top;\n",
       "    }\n",
       "\n",
       "    .dataframe thead th {\n",
       "        text-align: right;\n",
       "    }\n",
       "</style>\n",
       "<table border=\"1\" class=\"dataframe\">\n",
       "  <thead>\n",
       "    <tr style=\"text-align: right;\">\n",
       "      <th></th>\n",
       "      <th>appid</th>\n",
       "      <th>name</th>\n",
       "      <th>release_date</th>\n",
       "      <th>english</th>\n",
       "      <th>developer</th>\n",
       "      <th>publisher</th>\n",
       "      <th>platforms</th>\n",
       "      <th>required_age</th>\n",
       "      <th>categories</th>\n",
       "      <th>genres</th>\n",
       "      <th>steamspy_tags</th>\n",
       "      <th>achievements</th>\n",
       "      <th>positive_ratings</th>\n",
       "      <th>negative_ratings</th>\n",
       "      <th>average_playtime</th>\n",
       "      <th>median_playtime</th>\n",
       "      <th>owners</th>\n",
       "      <th>price</th>\n",
       "      <th>revenue</th>\n",
       "    </tr>\n",
       "  </thead>\n",
       "  <tbody>\n",
       "    <tr>\n",
       "      <td>12836</td>\n",
       "      <td>578080</td>\n",
       "      <td>PLAYERUNKNOWN'S BATTLEGROUNDS</td>\n",
       "      <td>2017-12-21</td>\n",
       "      <td>1</td>\n",
       "      <td>PUBG Corporation</td>\n",
       "      <td>PUBG Corporation</td>\n",
       "      <td>windows</td>\n",
       "      <td>0</td>\n",
       "      <td>Multi-player;Online Multi-Player;Stats</td>\n",
       "      <td>Action;Adventure;Massively Multiplayer</td>\n",
       "      <td>Survival;Shooter;Multiplayer</td>\n",
       "      <td>37</td>\n",
       "      <td>496184</td>\n",
       "      <td>487076</td>\n",
       "      <td>22938</td>\n",
       "      <td>12434</td>\n",
       "      <td>50000000-100000000</td>\n",
       "      <td>26.99</td>\n",
       "      <td>2.024250e+09</td>\n",
       "    </tr>\n",
       "  </tbody>\n",
       "</table>\n",
       "</div>"
      ],
      "text/plain": [
       "        appid                           name release_date  english  \\\n",
       "12836  578080  PLAYERUNKNOWN'S BATTLEGROUNDS   2017-12-21        1   \n",
       "\n",
       "              developer         publisher platforms  required_age  \\\n",
       "12836  PUBG Corporation  PUBG Corporation   windows             0   \n",
       "\n",
       "                                   categories  \\\n",
       "12836  Multi-player;Online Multi-Player;Stats   \n",
       "\n",
       "                                       genres                 steamspy_tags  \\\n",
       "12836  Action;Adventure;Massively Multiplayer  Survival;Shooter;Multiplayer   \n",
       "\n",
       "       achievements  positive_ratings  negative_ratings  average_playtime  \\\n",
       "12836            37            496184            487076             22938   \n",
       "\n",
       "       median_playtime              owners  price       revenue  \n",
       "12836            12434  50000000-100000000  26.99  2.024250e+09  "
      ]
     },
     "execution_count": 43,
     "metadata": {},
     "output_type": "execute_result"
    }
   ],
   "source": [
    "# tạo cột doanh thu\n",
    "games_df['revenue'] = games_df['owners']\n",
    "\n",
    "# hàm tách giá trị từ owner rồi tính trung bình\n",
    "def cal_average(owner): \n",
    "    arr = owner.split('-')\n",
    "    return np.mean([int(arr[0]), int(arr[1])])\n",
    "\n",
    "# apply hàm ở trên vào cột revenue ta được cột revenue có giá trị là trung bình của lower và upper trong owners\n",
    "games_df['revenue'] = games_df['revenue'].apply(cal_average)\n",
    "\n",
    "# nhân cột revenue với cột price ta được doanh thu tính theo bảng Anh\n",
    "games_df['revenue'] = games_df['revenue'] * games_df['price']\n",
    "\n",
    "# tìm dòng có revenue lớn nhất\n",
    "games_df.loc[games_df['revenue'] == max(games_df['revenue'])]"
   ]
  },
  {
   "cell_type": "code",
   "execution_count": 16,
   "metadata": {},
   "outputs": [
    {
     "data": {
      "text/plain": [
       "2024250000.0"
      ]
     },
     "execution_count": 16,
     "metadata": {},
     "output_type": "execute_result"
    }
   ],
   "source": [
    "games_df.iloc[12836, 18]"
   ]
  },
  {
   "cell_type": "markdown",
   "metadata": {},
   "source": [
    "Vậy game có doanh thu cao nhất là **PLAYERUNKNOWN'S BATTLEGROUNDS** với doanh thu khoảng $2,024,250,000$ bảng Anh \n",
    "\n",
    "<img src=\"https://upload.wikimedia.org/wikipedia/vi/thumb/d/d0/Pubgps4.jpg/800px-Pubgps4.jpg\" alt=\"drawing\" width=\"200\"/>  \n",
    "PUBG là game sinh tồn hot nhất năm 2018. Trong trò chơi, sẽ có tối đa một trăm người chơi (bao gồm cả Bot Players - những người chơi ảo được điều khiển tự động bởi trí tuệ nhân tạo) sẽ nhảy dù xuống một hòn đảo lớn. Người chơi sau đó phải nhanh chóng nhặt đồ dùng, vũ khí, phương tiện di chuyển và các trang thiết bị cần thiết để có thể sinh tồn, kết hợp với việc tiêu diệt những người chơi khác và tránh bị người khác giết."
   ]
  },
  {
   "cell_type": "markdown",
   "metadata": {},
   "source": [
    "### Các thể loại game nào được chơi nhiều nhất"
   ]
  },
  {
   "cell_type": "markdown",
   "metadata": {},
   "source": [
    "Tìm ra thể loại game được nhiều người chơi nhất"
   ]
  },
  {
   "cell_type": "markdown",
   "metadata": {},
   "source": [
    "Tính tổng thời gian chơi trung bình của từng thể loại game (genres) để tìm ra thể loại được chơi nhiều nhất  "
   ]
  },
  {
   "cell_type": "markdown",
   "metadata": {},
   "source": [
    "Xử lí:\n",
    "- Tạo 1 dict chứa tên thể loại và tổng thời gian chơi trung bình  \n",
    "- Duyệt từng dòng \n",
    "- Ở từng dòng, split genres rồi cập nhật vào dict các giá trị tương ứng như tên genre, average_playtime"
   ]
  },
  {
   "cell_type": "code",
   "execution_count": 17,
   "metadata": {},
   "outputs": [],
   "source": [
    "genres_times = {} # dict chứa tên thể loại và thời gian chơi\n",
    "for i in range(len(games_df)): # duyêt từng dòng\n",
    "    # vì genres có dạng genres1;genres2;... nên split nó ra\n",
    "    genres = games_df['genres'][i].split(';')\n",
    "    for genre in genres:\n",
    "        if genre not in genres_times:\n",
    "            genres_times[genre] = games_df['average_playtime'][i]\n",
    "        else:\n",
    "            genres_times[genre] += games_df['average_playtime'][i]\n",
    "            \n",
    "# sort giảm dần theo value\n",
    "genres_times = sorted(genres_times.items(), key = lambda item: item[1], reverse = True)"
   ]
  },
  {
   "cell_type": "markdown",
   "metadata": {},
   "source": [
    "Tạo 1 dataframe để hiển thị cho dễ nhìn"
   ]
  },
  {
   "cell_type": "code",
   "execution_count": 45,
   "metadata": {},
   "outputs": [
    {
     "data": {
      "text/html": [
       "<div>\n",
       "<style scoped>\n",
       "    .dataframe tbody tr th:only-of-type {\n",
       "        vertical-align: middle;\n",
       "    }\n",
       "\n",
       "    .dataframe tbody tr th {\n",
       "        vertical-align: top;\n",
       "    }\n",
       "\n",
       "    .dataframe thead th {\n",
       "        text-align: right;\n",
       "    }\n",
       "</style>\n",
       "<table border=\"1\" class=\"dataframe\">\n",
       "  <thead>\n",
       "    <tr style=\"text-align: right;\">\n",
       "      <th></th>\n",
       "      <th>genres</th>\n",
       "      <th>average_play_time</th>\n",
       "    </tr>\n",
       "  </thead>\n",
       "  <tbody>\n",
       "    <tr>\n",
       "      <td>0</td>\n",
       "      <td>Indie</td>\n",
       "      <td>2191390</td>\n",
       "    </tr>\n",
       "    <tr>\n",
       "      <td>1</td>\n",
       "      <td>Action</td>\n",
       "      <td>1714230</td>\n",
       "    </tr>\n",
       "    <tr>\n",
       "      <td>2</td>\n",
       "      <td>Adventure</td>\n",
       "      <td>1521420</td>\n",
       "    </tr>\n",
       "    <tr>\n",
       "      <td>3</td>\n",
       "      <td>RPG</td>\n",
       "      <td>1194086</td>\n",
       "    </tr>\n",
       "    <tr>\n",
       "      <td>4</td>\n",
       "      <td>Strategy</td>\n",
       "      <td>1013354</td>\n",
       "    </tr>\n",
       "    <tr>\n",
       "      <td>5</td>\n",
       "      <td>Free to Play</td>\n",
       "      <td>944762</td>\n",
       "    </tr>\n",
       "    <tr>\n",
       "      <td>6</td>\n",
       "      <td>Casual</td>\n",
       "      <td>868603</td>\n",
       "    </tr>\n",
       "    <tr>\n",
       "      <td>7</td>\n",
       "      <td>Simulation</td>\n",
       "      <td>801127</td>\n",
       "    </tr>\n",
       "    <tr>\n",
       "      <td>8</td>\n",
       "      <td>Massively Multiplayer</td>\n",
       "      <td>524525</td>\n",
       "    </tr>\n",
       "    <tr>\n",
       "      <td>9</td>\n",
       "      <td>Early Access</td>\n",
       "      <td>240163</td>\n",
       "    </tr>\n",
       "    <tr>\n",
       "      <td>10</td>\n",
       "      <td>Sports</td>\n",
       "      <td>152715</td>\n",
       "    </tr>\n",
       "    <tr>\n",
       "      <td>11</td>\n",
       "      <td>Racing</td>\n",
       "      <td>145634</td>\n",
       "    </tr>\n",
       "    <tr>\n",
       "      <td>12</td>\n",
       "      <td>Violent</td>\n",
       "      <td>40586</td>\n",
       "    </tr>\n",
       "    <tr>\n",
       "      <td>13</td>\n",
       "      <td>Nudity</td>\n",
       "      <td>26593</td>\n",
       "    </tr>\n",
       "    <tr>\n",
       "      <td>14</td>\n",
       "      <td>Gore</td>\n",
       "      <td>25587</td>\n",
       "    </tr>\n",
       "    <tr>\n",
       "      <td>15</td>\n",
       "      <td>Sexual Content</td>\n",
       "      <td>20677</td>\n",
       "    </tr>\n",
       "    <tr>\n",
       "      <td>16</td>\n",
       "      <td>Utilities</td>\n",
       "      <td>16434</td>\n",
       "    </tr>\n",
       "    <tr>\n",
       "      <td>17</td>\n",
       "      <td>Design &amp; Illustration</td>\n",
       "      <td>9764</td>\n",
       "    </tr>\n",
       "    <tr>\n",
       "      <td>18</td>\n",
       "      <td>Animation &amp; Modeling</td>\n",
       "      <td>6963</td>\n",
       "    </tr>\n",
       "    <tr>\n",
       "      <td>19</td>\n",
       "      <td>Photo Editing</td>\n",
       "      <td>5155</td>\n",
       "    </tr>\n",
       "    <tr>\n",
       "      <td>20</td>\n",
       "      <td>Web Publishing</td>\n",
       "      <td>3814</td>\n",
       "    </tr>\n",
       "    <tr>\n",
       "      <td>21</td>\n",
       "      <td>Education</td>\n",
       "      <td>2191</td>\n",
       "    </tr>\n",
       "    <tr>\n",
       "      <td>22</td>\n",
       "      <td>Game Development</td>\n",
       "      <td>1972</td>\n",
       "    </tr>\n",
       "    <tr>\n",
       "      <td>23</td>\n",
       "      <td>Video Production</td>\n",
       "      <td>1025</td>\n",
       "    </tr>\n",
       "    <tr>\n",
       "      <td>24</td>\n",
       "      <td>Software Training</td>\n",
       "      <td>302</td>\n",
       "    </tr>\n",
       "    <tr>\n",
       "      <td>25</td>\n",
       "      <td>Audio Production</td>\n",
       "      <td>65</td>\n",
       "    </tr>\n",
       "    <tr>\n",
       "      <td>26</td>\n",
       "      <td>Accounting</td>\n",
       "      <td>0</td>\n",
       "    </tr>\n",
       "    <tr>\n",
       "      <td>27</td>\n",
       "      <td>Documentary</td>\n",
       "      <td>0</td>\n",
       "    </tr>\n",
       "    <tr>\n",
       "      <td>28</td>\n",
       "      <td>Tutorial</td>\n",
       "      <td>0</td>\n",
       "    </tr>\n",
       "  </tbody>\n",
       "</table>\n",
       "</div>"
      ],
      "text/plain": [
       "                   genres  average_play_time\n",
       "0                   Indie            2191390\n",
       "1                  Action            1714230\n",
       "2               Adventure            1521420\n",
       "3                     RPG            1194086\n",
       "4                Strategy            1013354\n",
       "5            Free to Play             944762\n",
       "6                  Casual             868603\n",
       "7              Simulation             801127\n",
       "8   Massively Multiplayer             524525\n",
       "9            Early Access             240163\n",
       "10                 Sports             152715\n",
       "11                 Racing             145634\n",
       "12                Violent              40586\n",
       "13                 Nudity              26593\n",
       "14                   Gore              25587\n",
       "15         Sexual Content              20677\n",
       "16              Utilities              16434\n",
       "17  Design & Illustration               9764\n",
       "18   Animation & Modeling               6963\n",
       "19          Photo Editing               5155\n",
       "20         Web Publishing               3814\n",
       "21              Education               2191\n",
       "22       Game Development               1972\n",
       "23       Video Production               1025\n",
       "24      Software Training                302\n",
       "25       Audio Production                 65\n",
       "26             Accounting                  0\n",
       "27            Documentary                  0\n",
       "28               Tutorial                  0"
      ]
     },
     "execution_count": 45,
     "metadata": {},
     "output_type": "execute_result"
    }
   ],
   "source": [
    "genres = []\n",
    "times = []\n",
    "for genre in genres_times:\n",
    "    genres.append(genre[0])\n",
    "    times.append(genre[1])\n",
    "genres_times_df = pd.DataFrame({\n",
    "    'genres': genres,\n",
    "    'average_play_time': times\n",
    "})\n",
    "genres_times_df"
   ]
  },
  {
   "cell_type": "markdown",
   "metadata": {},
   "source": [
    "Như trên thì **Indie** là thể loại game phổ biến nhất. Game Indie là các tựa game được phát triển bởi những cá nhân hoặc một nhóm người rất bình thường và có niềm đam mê với game. Những dòng game indie thường tập trung vào gameplay, cách thể hiện nhân vật chứ không phải đồ họa. Vì vậy nên ở đây, **Indie** chưa đúng là một thể loại hay lối chơi game lắm. Ngoài Indie ra thì còn có một số thể loại phổ biến khác như  **Action, Adventure, RPG,...**"
   ]
  },
  {
   "cell_type": "markdown",
   "metadata": {},
   "source": [
    "### Nhà phát triển game nào có nhiều thành tựu trong game nhất"
   ]
  },
  {
   "cell_type": "markdown",
   "metadata": {},
   "source": [
    "Tìm ra nhà phát triển game đạt được nhiều thành tựu nhất trong game"
   ]
  },
  {
   "cell_type": "markdown",
   "metadata": {},
   "source": [
    "Cách xử lí:\n",
    "- Tạo 1 dict rỗng để chứa thông tin nhà phát triển (developer) và số thành tựu (achievements) họ đạt được\n",
    "- Duyệt games_df để cập nhật giá trị tương ứng cho dict\n",
    "- Sắp xếp dict giảm dần theo giá trị (tổng số achievements)\n",
    "- Lấy ra giá trị đầu tiên - có achievements cao nhất"
   ]
  },
  {
   "cell_type": "code",
   "execution_count": 19,
   "metadata": {},
   "outputs": [],
   "source": [
    "achievements_count = {}\n",
    "for i in range(len(games_df['achievements'])):\n",
    "    developer = games_df.loc[i, 'developer']\n",
    "    if developer not in achievements_count:\n",
    "        achievements_count[developer] = games_df.loc[i, 'achievements']\n",
    "    else:\n",
    "        achievements_count[developer] += games_df.loc[i, 'achievements']"
   ]
  },
  {
   "cell_type": "code",
   "execution_count": 20,
   "metadata": {},
   "outputs": [
    {
     "data": {
      "text/plain": [
       "('Ripknot Systems', 190196)"
      ]
     },
     "execution_count": 20,
     "metadata": {},
     "output_type": "execute_result"
    }
   ],
   "source": [
    "# sort giảm dần theo value\n",
    "achievements_count = sorted(achievements_count.items(), key = lambda item: item[1], reverse = True)\n",
    "\n",
    "# giá trị đầu tiên trong mảng là giá trị lớn nhất\n",
    "achievements_count[0]"
   ]
  },
  {
   "cell_type": "markdown",
   "metadata": {},
   "source": [
    "Vậy nhà phát triển Ripknot Systems có nhiều thành tựu trong game nhất (190196)"
   ]
  },
  {
   "cell_type": "markdown",
   "metadata": {},
   "source": [
    "## NHÌN LẠI QUÁ TRÌNH THỰC HIỆN"
   ]
  },
  {
   "cell_type": "markdown",
   "metadata": {},
   "source": [
    "Khó khăn gặp phải:\n",
    "- Hơi mất thời gian để tìm được dữ liệu phù hợp\n",
    "- Đặt ra các câu hỏi sao cho vừa có ích, vừa nằm trong khả năng xử lí\n",
    "- Cách trình bày nội dung sao cho trực quan, người khác dễ hiểu\n",
    "\n",
    "Đã học được:\n",
    "- Các bước trong một quy trình làm khoa học dữ liệu\n",
    "- Cách dùng các thư viện python để phục vụ quá trình xử lí, khai thác thông tin\n",
    "- Biết thêm về kaggle\n",
    "\n",
    "Nếu có thêm thời gian em sẽ khai thác thêm dữ liệu bằng cách đặt ra thêm các câu hỏi"
   ]
  },
  {
   "cell_type": "markdown",
   "metadata": {},
   "source": [
    "## TÀI LIỆU THAM KHẢO"
   ]
  },
  {
   "cell_type": "markdown",
   "metadata": {},
   "source": [
    "- [kaggle.com](https://www.kaggle.com/) để lấy dữ liệu\n",
    "- Thư viện [Pandas](https://pandas.pydata.org/pandas-docs/stable/index.html)\n",
    "- Các demo của thầy trong môn LTCKHDL"
   ]
  }
 ],
 "metadata": {
  "kernelspec": {
   "display_name": "Python 3",
   "language": "python",
   "name": "python3"
  },
  "language_info": {
   "codemirror_mode": {
    "name": "ipython",
    "version": 3
   },
   "file_extension": ".py",
   "mimetype": "text/x-python",
   "name": "python",
   "nbconvert_exporter": "python",
   "pygments_lexer": "ipython3",
   "version": "3.7.4"
  },
  "toc": {
   "base_numbering": 1,
   "nav_menu": {},
   "number_sections": true,
   "sideBar": true,
   "skip_h1_title": false,
   "title_cell": "Table of Contents",
   "title_sidebar": "Contents",
   "toc_cell": false,
   "toc_position": {
    "height": "calc(100% - 180px)",
    "left": "10px",
    "top": "150px",
    "width": "174.188px"
   },
   "toc_section_display": true,
   "toc_window_display": true
  }
 },
 "nbformat": 4,
 "nbformat_minor": 4
}
